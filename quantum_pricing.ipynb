{
 "cells": [
  {
   "cell_type": "markdown",
   "metadata": {},
   "source": [
    "# List of imports\n",
    "\n",
    "The following list of imports should be sufficient to work on the project."
   ]
  },
  {
   "cell_type": "code",
   "metadata": {
    "ExecuteTime": {
     "end_time": "2025-03-12T11:21:51.117119Z",
     "start_time": "2025-03-12T11:21:51.113914Z"
    }
   },
   "source": "",
   "outputs": [],
   "execution_count": null
  },
  {
   "cell_type": "code",
   "metadata": {
    "ExecuteTime": {
     "end_time": "2025-03-12T11:21:51.159902Z",
     "start_time": "2025-03-12T11:21:51.154939Z"
    }
   },
   "source": [
    "import math\n",
    "import matplotlib.pyplot as plt\n",
    "import numpy as np\n",
    "from qiskit import QuantumCircuit, QuantumRegister, ClassicalRegister, transpile\n",
    "from qiskit.circuit.library import OrGate\n",
    "from qiskit.circuit.library.standard_gates import RYGate\n",
    "from qiskit_aer import AerSimulator\n",
    "from qiskit_aer.primitives import SamplerV2\n",
    "from qiskit.visualization import plot_histogram\n",
    "from qiskit.quantum_info import Statevector, Operator\n",
    "from qiskit_algorithms import IterativeAmplitudeEstimation, EstimationProblem\n",
    "from itertools import product\n",
    "from scipy.stats import norm, lognorm\n"
   ],
   "outputs": [],
   "execution_count": 28
  },
  {
   "cell_type": "markdown",
   "metadata": {},
   "source": [
    "# Standard pricing of a call option\n",
    "\n",
    "The code below permits to compute the price of a call option using the Black-Scholes closed formula, and then approximating it using a Monte Carlo method."
   ]
  },
  {
   "cell_type": "markdown",
   "metadata": {},
   "source": [
    "## Black-Scholes price of the call option\n",
    "\n",
    "Definition of the function implementing the closed formula for the price of a call option"
   ]
  },
  {
   "cell_type": "code",
   "metadata": {
    "ExecuteTime": {
     "end_time": "2025-03-12T11:21:51.232088Z",
     "start_time": "2025-03-12T11:21:51.226669Z"
    }
   },
   "source": [
    "def black_scholes_call(S, K, T, r, sigma):\n",
    "    \"\"\"\n",
    "    Calculate the Black-Scholes price for a European call option.\n",
    "    \n",
    "    :param S: Current stock price\n",
    "    :param K: Strike price\n",
    "    :param T: Maturity (in years)\n",
    "    :param r: Risk-free interest rate (annual)\n",
    "    :param sigma: Volatility of the stock (annual)\n",
    "    :return: Call option price\n",
    "    \"\"\"\n",
    "    d1 = (np.log(S / K) + (r + 0.5 * sigma**2) * T) / (sigma * np.sqrt(T))\n",
    "    d2 = d1 - sigma * np.sqrt(T)\n",
    "    call_price = S * norm.cdf(d1) - K * np.exp(-r * T) * norm.cdf(d2)\n",
    "    return call_price"
   ],
   "outputs": [],
   "execution_count": 29
  },
  {
   "cell_type": "markdown",
   "metadata": {},
   "source": [
    "### Characteristics to price the call option"
   ]
  },
  {
   "cell_type": "code",
   "metadata": {
    "ExecuteTime": {
     "end_time": "2025-03-12T11:21:51.284227Z",
     "start_time": "2025-03-12T11:21:51.279290Z"
    }
   },
   "source": [
    "# Financial characteristics that are also required to compute the probability distribution\n",
    "sigma = 0.2 # volatility (annualized)\n",
    "T = 1 # maturity (in years)\n",
    "r = 0.05 # risk-free rate (annualized)\n",
    "S0 = 2 # initial stock price\n",
    "K = 2 # strike price"
   ],
   "outputs": [],
   "execution_count": 30
  },
  {
   "cell_type": "markdown",
   "metadata": {},
   "source": [
    "Evaluation of the price for the given set of parameters"
   ]
  },
  {
   "cell_type": "code",
   "metadata": {
    "ExecuteTime": {
     "end_time": "2025-03-12T11:21:51.340793Z",
     "start_time": "2025-03-12T11:21:51.335577Z"
    }
   },
   "source": [
    "call_price = black_scholes_call(S0, K, T, r, sigma)\n",
    "print(f\"Call option price: {call_price}\")"
   ],
   "outputs": [
    {
     "name": "stdout",
     "output_type": "stream",
     "text": [
      "Call option price: 0.20901167144371136\n"
     ]
    }
   ],
   "execution_count": 31
  },
  {
   "cell_type": "markdown",
   "metadata": {},
   "source": [
    "## Compounded Black-Scholes price of the call option"
   ]
  },
  {
   "cell_type": "markdown",
   "metadata": {},
   "source": [
    "In this project, we are actually interested in the compounded value of the call price. Data is stored in dictionaries."
   ]
  },
  {
   "cell_type": "markdown",
   "metadata": {},
   "source": [
    "Dictionary for the pricing characteristics"
   ]
  },
  {
   "cell_type": "code",
   "metadata": {
    "ExecuteTime": {
     "end_time": "2025-03-12T11:21:51.400197Z",
     "start_time": "2025-03-12T11:21:51.395932Z"
    }
   },
   "source": [
    "price_dict = {'S0': S0, 'r': r, 'sigma': sigma, 'T': T}\n",
    "\n",
    "print(price_dict)"
   ],
   "outputs": [
    {
     "name": "stdout",
     "output_type": "stream",
     "text": [
      "{'S0': 2, 'r': 0.05, 'sigma': 0.2, 'T': 1}\n"
     ]
    }
   ],
   "execution_count": 32
  },
  {
   "cell_type": "code",
   "metadata": {
    "ExecuteTime": {
     "end_time": "2025-03-12T11:21:51.458384Z",
     "start_time": "2025-03-12T11:21:51.453531Z"
    }
   },
   "source": [
    "def compound_black_scholes_call(price_dict, K):\n",
    "    \"\"\"\n",
    "    Calculate the Black-Scholes price for a European call option.\n",
    "    \n",
    "    :param S: Current stock price\n",
    "    :param K: Strike price\n",
    "    :param T: Maturity (in years)\n",
    "    :param r: Risk-free interest rate (annual)\n",
    "    :param sigma: Volatility of the stock (annual)\n",
    "    :return: Call option price\n",
    "    \"\"\"\n",
    "    S0 = price_dict['S0']\n",
    "    T = price_dict['T']\n",
    "    r = price_dict['r']\n",
    "    sigma = price_dict['sigma']\n",
    "    call_price = black_scholes_call(S0, K, T, r, sigma)\n",
    "    compound = np.exp(r * T)\n",
    "    return compound * call_price"
   ],
   "outputs": [],
   "execution_count": 33
  },
  {
   "cell_type": "code",
   "metadata": {
    "ExecuteTime": {
     "end_time": "2025-03-12T11:21:51.513553Z",
     "start_time": "2025-03-12T11:21:51.508037Z"
    }
   },
   "source": [
    "compound_call_price = compound_black_scholes_call(price_dict, K)\n",
    "print(f\"Compounded call option price: {compound_call_price}\")"
   ],
   "outputs": [
    {
     "name": "stdout",
     "output_type": "stream",
     "text": [
      "Compounded call option price: 0.21972792899401578\n"
     ]
    }
   ],
   "execution_count": 34
  },
  {
   "cell_type": "markdown",
   "metadata": {},
   "source": [
    "## Monte Carlo evaluation of the compounded price of the call option\n",
    "\n",
    "Complete the code below to evaluate the compounded price of the call option. A sample of $\\mathcal{N}(0,1)$ can be generated using the command `random.standard_normal` from **numpy**"
   ]
  },
  {
   "cell_type": "code",
   "metadata": {
    "ExecuteTime": {
     "end_time": "2025-03-12T11:21:51.570266Z",
     "start_time": "2025-03-12T11:21:51.565951Z"
    }
   },
   "source": [
    "def monte_carlo_black_scholes(price_dict, K, num_simulations):\n",
    "    \"\"\"\n",
    "    Monte Carlo simulation for Black-Scholes option pricing.\n",
    "    \n",
    "    :param price_dict: Dictionary containing the pricing characteristics\n",
    "    :param K: Strike price\n",
    "    :param num_simulations: Number of Monte Carlo simulations\n",
    "    :return: Option price\n",
    "    \"\"\"\n",
    "    # Retrieve pricing characteristics\n",
    "    S0 = price_dict['S0']\n",
    "    T = price_dict['T']\n",
    "    r = price_dict['r']\n",
    "    sigma = price_dict['sigma']\n",
    "    # Generate random price paths\n",
    "    payoffs = np.zeros((num_simulations, 2))\n",
    "    G = np.random.normal(0, 1, [1,num_simulations])\n",
    "    ST = S0*np.exp((r - 0.5*sigma**2)*T + sigma*np.sqrt(T)*G)\n",
    "    payoffs[:, 1] = ST - K\n",
    "\n",
    "\n",
    "    compound_option_price = np.sum(np.amax(payoffs, axis=1))/float(num_simulations)\n",
    "    \n",
    "    return compound_option_price"
   ],
   "outputs": [],
   "execution_count": 35
  },
  {
   "cell_type": "code",
   "metadata": {
    "ExecuteTime": {
     "end_time": "2025-03-12T11:21:51.681545Z",
     "start_time": "2025-03-12T11:21:51.621718Z"
    }
   },
   "source": [
    "monte_carlo_black_scholes(price_dict, K, 500000)\n"
   ],
   "outputs": [
    {
     "data": {
      "text/plain": [
       "np.float64(0.21991814666868653)"
      ]
     },
     "execution_count": 36,
     "metadata": {},
     "output_type": "execute_result"
    }
   ],
   "execution_count": 36
  },
  {
   "cell_type": "code",
   "metadata": {
    "ExecuteTime": {
     "end_time": "2025-03-12T11:21:51.721510Z",
     "start_time": "2025-03-12T11:21:51.716991Z"
    }
   },
   "source": [],
   "outputs": [],
   "execution_count": null
  },
  {
   "cell_type": "markdown",
   "metadata": {},
   "source": [
    "# Storing a linear function in a quantum state\n",
    "\n",
    "## Presentation\n",
    "The goal of this part is to construct a circuit that permits to encode an affine function $f: x\\mapsto a + bx$ on $n$ qubits, under the constraint that $a$ and $b$ are such that $f(x) \\in [0,1]$ for all $x\\in \\{0, \\ldots, 2^n-1\\}$.\n",
    "\n",
    "The encoding is based on the approximation $\\sin^2\\left(y + \\frac{\\pi}{4}\\right) = y + \\frac{1}{2} + O\\left(y^3\\right)$, where $y$ is replaced by $d\\cdot\\left(f(x) + \\frac{1}{2}\\right)$."
   ]
  },
  {
   "cell_type": "markdown",
   "metadata": {},
   "source": [
    "## Encoding the affine function\n",
    "\n",
    "Creation of a method `encode_affine_function`$(n,a,b)$ that encodes the function $f$ defined above into a circuit using rotation gates."
   ]
  },
  {
   "cell_type": "code",
   "metadata": {
    "ExecuteTime": {
     "end_time": "2025-03-12T11:21:51.769392Z",
     "start_time": "2025-03-12T11:21:51.765141Z"
    }
   },
   "source": [
    "\n",
    "\n",
    "def encode_affine_function(n, a, b):\n",
    "    qc = QuantumCircuit(n+1)\n",
    "\n",
    "    qc.ry(2*a, 0)\n",
    "\n",
    "    for k in range(1, n+1):\n",
    "        qc.cry(b*2**k, k, 0)\n",
    "\n",
    "    return qc\n",
    "\n",
    "\n",
    "\n"
   ],
   "outputs": [],
   "execution_count": 37
  },
  {
   "cell_type": "markdown",
   "metadata": {},
   "source": [
    "## Testing the circuit\n",
    "\n",
    "Definition of a method `convert_affine`$(a,b,d)$ that outputs values `a_out` and `b_out` for the transformed affine function."
   ]
  },
  {
   "cell_type": "code",
   "metadata": {
    "ExecuteTime": {
     "end_time": "2025-03-12T11:21:51.846327Z",
     "start_time": "2025-03-12T11:21:51.840554Z"
    }
   },
   "source": [
    "def convert_affine(a,b,d):\n",
    "    a_out = d*(a-0.5)+np.pi/4\n",
    "    b_out = d*b\n",
    "    return a_out, b_out"
   ],
   "outputs": [],
   "execution_count": 38
  },
  {
   "cell_type": "markdown",
   "metadata": {},
   "source": [
    "The `get_one_prob` method below permits to compute the probability of reading value '1' on qubit $0$ upon a measurement. "
   ]
  },
  {
   "cell_type": "code",
   "metadata": {
    "ExecuteTime": {
     "end_time": "2025-03-12T11:21:51.886467Z",
     "start_time": "2025-03-12T11:21:51.879828Z"
    }
   },
   "source": [
    "def get_one_prob(qc, numshots):\n",
    "    job = SamplerV2().run([qc], shots=numshots)\n",
    "    result = job.result()\n",
    "    #print(result[0].data.shape.count('1'))\n",
    "    #prob = result[0].data.shape.count('1')/numshots\n",
    "    prob = result[0].data.cl.get_counts()['1']/numshots\n",
    "    #print(f\"Probability: {prob}\")\n",
    "\n",
    "    return prob\n",
    "\n"
   ],
   "outputs": [],
   "execution_count": 39
  },
  {
   "cell_type": "markdown",
   "metadata": {},
   "source": [
    "Creation of a method `add_measurement`(`qc`) method that copies circuit `qc`, adds a classical register with a single bit to the new copy and adds a measurement of qubit $0$ with the result stored in the classical bit. The resulting circuit will be used to guarantee that the circuit correctly encodes the affine function."
   ]
  },
  {
   "cell_type": "code",
   "metadata": {
    "ExecuteTime": {
     "end_time": "2025-03-12T11:21:51.935240Z",
     "start_time": "2025-03-12T11:21:51.930876Z"
    }
   },
   "source": [
    "def add_measurement(qc: QuantumCircuit):\n",
    "    cr = ClassicalRegister(1)\n",
    "    qc.add_register(cr)\n",
    "    qc.measure(0, cr)\n",
    "    return qc\n"
   ],
   "outputs": [],
   "execution_count": 40
  },
  {
   "cell_type": "markdown",
   "metadata": {},
   "source": [
    "### Validation"
   ]
  },
  {
   "cell_type": "code",
   "metadata": {
    "ExecuteTime": {
     "end_time": "2025-03-12T11:21:51.984276Z",
     "start_time": "2025-03-12T11:21:51.980809Z"
    }
   },
   "source": [
    "# Number of qubits in the circuit\n",
    "n_test = 3\n",
    "\n",
    "# Arbitrary value for b\n",
    "b_test = 1.0/(2**n_test)\n",
    "\n",
    "# Arbitrary value for a, with the constraint that 0 <= f(x) <= 1 for all x\n",
    "a_test = 1.0/(2**(n_test+1))\n",
    "\n",
    "# Arbitrary value for d\n",
    "d_test = 0.1"
   ],
   "outputs": [],
   "execution_count": 41
  },
  {
   "cell_type": "code",
   "metadata": {
    "ExecuteTime": {
     "end_time": "2025-03-12T11:21:52.034578Z",
     "start_time": "2025-03-12T11:21:52.030255Z"
    }
   },
   "source": [
    "pure_affine = encode_affine_function(n_test, a_test, b_test)"
   ],
   "outputs": [],
   "execution_count": 42
  },
  {
   "cell_type": "code",
   "metadata": {
    "ExecuteTime": {
     "end_time": "2025-03-12T11:21:52.154078Z",
     "start_time": "2025-03-12T11:21:52.083666Z"
    }
   },
   "source": [
    "pure_affine.draw(output='mpl')"
   ],
   "outputs": [
    {
     "data": {
      "text/plain": [
       "<Figure size 454.719x367.889 with 1 Axes>"
      ],
      "image/png": "[encoded data removed]"
     },
     "execution_count": 43,
     "metadata": {},
     "output_type": "execute_result"
    }
   ],
   "execution_count": 43
  },
  {
   "cell_type": "code",
   "metadata": {
    "ExecuteTime": {
     "end_time": "2025-03-12T11:21:52.218174Z",
     "start_time": "2025-03-12T11:21:52.214480Z"
    }
   },
   "source": [
    "measure_affine = add_measurement(pure_affine)"
   ],
   "outputs": [],
   "execution_count": 44
  },
  {
   "cell_type": "code",
   "metadata": {
    "ExecuteTime": {
     "end_time": "2025-03-12T11:21:52.367094Z",
     "start_time": "2025-03-12T11:21:52.266828Z"
    }
   },
   "source": [
    "measure_affine.draw(output='mpl')"
   ],
   "outputs": [
    {
     "data": {
      "text/plain": [
       "<Figure size 538.33x451.5 with 1 Axes>"
      ],
      "image/png": "[encoded data removed]"
     },
     "execution_count": 45,
     "metadata": {},
     "output_type": "execute_result"
    }
   ],
   "execution_count": 45
  },
  {
   "cell_type": "markdown",
   "metadata": {},
   "source": [
    "Creation of a method `initializer`$(qc,i)$ that takes as an input a quantum circuit $qc$ consisting of $n$ qubits and an integer $0\\leq i \\leq 2^{n} -1$, and creates a new quantum circuit in which the initial state is $|i\\rangle$."
   ]
  },
  {
   "cell_type": "code",
   "metadata": {
    "ExecuteTime": {
     "end_time": "2025-03-12T11:21:52.420685Z",
     "start_time": "2025-03-12T11:21:52.416124Z"
    }
   },
   "source": [
    "def initializer(qc: QuantumCircuit, i: int) -> QuantumCircuit:\n",
    "    \"\"\"\n",
    "    Je suppose que la notation |i> c'est la meme que |i>n, donc l'ecriture binaire de i\n",
    "    :param qc:\n",
    "    :param i:\n",
    "    :return:\n",
    "    \"\"\"\n",
    "    n_qubits = qc.num_qubits\n",
    "    # Get binary representation of i with leading zeros\n",
    "    i_bin = format(i, f'0{n_qubits}b')\n",
    "\n",
    "    # Apply X gates to qubits where the corresponding bit is 1\n",
    "    for qubit, bit in enumerate(reversed(i_bin)):  # Reverse because qubit 0 is least significant bit\n",
    "        if bit == '1':\n",
    "            qc.x(qubit)\n",
    "    return qc\n",
    "\n",
    "\n",
    "\n"
   ],
   "outputs": [],
   "execution_count": 46
  },
  {
   "cell_type": "markdown",
   "metadata": {},
   "source": [
    "We provide below a method `compare_values`$(n,a,b,d,i)$ that compares the expected value \n",
    "$$d\\cdot\\left(f(i)-\\frac{1}{2}\\right) + \\frac{1}{2} = d\\cdot\\left(a+i\\cdot b - \\frac{1}{2}\\right) + \\frac{1}{2}$$\n",
    "with the probability of measuring value $1$ in the constructed circuit. The method prints the expected value, the probability of measuring the value $1$ and the relative error between both.\n",
    "\n",
    "This method is in charge of:\n",
    "- Invoking `convert_affine` to get the appropriate parameters for the encoded affine function\n",
    "- Creating the initial circuit (`encode_affine_function`)\n",
    "- Invoking the `initializer` to set the desired initial state\n",
    "- Adding a classical bit to measure the first qubit (`add_measurement` method) and using the `get_one_prob` method to compute the probability of measuring the value $1$"
   ]
  },
  {
   "cell_type": "code",
   "metadata": {
    "ExecuteTime": {
     "end_time": "2025-03-12T11:21:52.476062Z",
     "start_time": "2025-03-12T11:21:52.471705Z"
    }
   },
   "source": [
    "def compare_values(n, a, b, d, i):\n",
    "    a_out, b_out = convert_affine(a, b, d)\n",
    "    encoded_qc = encode_affine_function(n, a_out, b_out)\n",
    "    initialized_qc = initializer(encoded_qc,i)\n",
    "    measured_qc = add_measurement(initialized_qc)\n",
    "    output_prob = get_one_prob(measured_qc, 10000)\n",
    "    expected_value = d*(a+b*i -0.5) + 0.5\n",
    "    relative_error =(expected_value-output_prob)/expected_value\n",
    "    print(f'Expected value: {expected_value}, measured output: {output_prob}, relative error: {relative_error:.2%}')"
   ],
   "outputs": [],
   "execution_count": 47
  },
  {
   "cell_type": "code",
   "metadata": {
    "ExecuteTime": {
     "end_time": "2025-03-12T11:21:52.517516Z",
     "start_time": "2025-03-12T11:21:52.513399Z"
    }
   },
   "source": [
    "def compare_all_values(n, a, b, d):\n",
    "    for i in range(2**n):\n",
    "        compare_values(n, a, b, d, i)"
   ],
   "outputs": [],
   "execution_count": 48
  },
  {
   "cell_type": "code",
   "metadata": {
    "ExecuteTime": {
     "end_time": "2025-03-12T11:21:52.568450Z",
     "start_time": "2025-03-12T11:21:52.564794Z"
    }
   },
   "source": "#compare_all_values(n_test, a_test, b_test, d_test)",
   "outputs": [],
   "execution_count": 49
  },
  {
   "cell_type": "markdown",
   "metadata": {},
   "source": [
    "# A quantum circuit for integer comparison\n",
    "\n",
    "The goal of this part is to construct a circuit of size $n$, parameterized by an integer $0\\leq L \\leq 2^n-1$, that permits to detect whether a given state $|i\\rangle$ is such that $i < L$ or $i\\geq L$."
   ]
  },
  {
   "cell_type": "markdown",
   "metadata": {},
   "source": [
    "## Creation of the 'or' gate\n",
    "\n",
    "Definition of a method `or_gate`() that constructs a quantum circuit representing an *or* gate using the method described in the exercise sheet. The resulting circuit can be used as a standard gate thanks to the `to_gate()` method. It will be necessary to invoke the `transpile` method before measurement outcomes can be computed."
   ]
  },
  {
   "cell_type": "code",
   "metadata": {
    "ExecuteTime": {
     "end_time": "2025-03-12T11:21:52.618813Z",
     "start_time": "2025-03-12T11:21:52.614454Z"
    }
   },
   "source": [
    "def or_gate()->QuantumCircuit:\n",
    "    qc = QuantumCircuit(3, name='OR')\n",
    "    qc.x(range(3))\n",
    "    #qc.barrier()\n",
    "    qc.ccx(2, 1, 0)\n",
    "    #qc.barrier()\n",
    "    qc.x([1,2])\n",
    "    return qc"
   ],
   "outputs": [],
   "execution_count": 50
  },
  {
   "cell_type": "markdown",
   "metadata": {},
   "source": [
    "We can verify that the *or* gate has the appropriate behavior by computing the probabilities of measuring a $1$ on qubit $2$ for different initial states.\n",
    "\n",
    "\n",
    "**Useful methods**: \n",
    "- The `initialize` method defined above.\n",
    "- The `to_gate()` instruction can be used to convert a circuit into a gate.\n",
    "- The `transpile()` instruction allows the AerSimulator to convert the *or* gate back to known gates."
   ]
  },
  {
   "cell_type": "code",
   "metadata": {
    "ExecuteTime": {
     "end_time": "2025-03-12T11:21:53.340152Z",
     "start_time": "2025-03-12T11:21:52.665021Z"
    }
   },
   "source": [
    "dict_num = {\n",
    "    \"0 OR 0\": 0,\n",
    "    \"1 OR 0\": 2,\n",
    "    \"0 OR 1\": 4,\n",
    "    \"1 OR 1\": 6,\n",
    "}\n",
    "for label, initial_state in dict_num.items():\n",
    "    qc = QuantumCircuit(3, 1)\n",
    "    qc = initializer(qc, initial_state)\n",
    "\n",
    "    or_circuit = or_gate()\n",
    "    # Je compose les deux circuits, mais on pourrait convertir en gate, ce qui sera d'ailleur utile pour la suite\n",
    "    qc = qc.compose(or_circuit)\n",
    "\n",
    "    qc.measure(0, 0)\n",
    "\n",
    "    simulator = AerSimulator()\n",
    "    compiled_circuit = transpile(qc, simulator)\n",
    "    result = simulator.run(compiled_circuit, shots=1024).result()\n",
    "    counts = result.get_counts()\n",
    "\n",
    "    print(f\"{label} = {list(counts.keys())[0]}\")"
   ],
   "outputs": [
    {
     "name": "stdout",
     "output_type": "stream",
     "text": [
      "0 OR 0 = 0\n",
      "1 OR 0 = 1\n",
      "0 OR 1 = 1\n",
      "1 OR 1 = 1\n"
     ]
    }
   ],
   "execution_count": 51
  },
  {
   "cell_type": "markdown",
   "metadata": {},
   "source": [
    "## Construction of the comparator circuit\n",
    "\n",
    "Definition of a `make_comparator`$(n,L)$ method that creates a circuit $q$ of size $2n$ such that, when state $|i\\rangle \\otimes |0^n\\rangle$ is fed as an input, we obtain a state $|x_{2n-1}\\cdots x_0\\rangle$ as an output with $|x_0\\rangle = |0\\rangle$ exactly when $i < L$. "
   ]
  },
  {
   "cell_type": "code",
   "metadata": {
    "ExecuteTime": {
     "end_time": "2025-03-12T11:21:53.376032Z",
     "start_time": "2025-03-12T11:21:53.370721Z"
    }
   },
   "source": [
    "def make_comparator(n: int, L: int) -> QuantumCircuit:\n",
    "    q = QuantumCircuit(2*n)\n",
    "    or_circuit = or_gate()\n",
    "    gate_or = or_circuit.to_gate(label='OR')\n",
    "\n",
    "    l_to_binary = format(2**n - L, f'0{n}b')\n",
    "    if l_to_binary[n - 1] == '1':\n",
    "        q.cx(n, n-1)\n",
    "        q.barrier()\n",
    "    for j in range(1, n):\n",
    "        if l_to_binary[n-1-j] == '1':\n",
    "            q.append(gate_or, [n+j, n-j, n-j-1])\n",
    "            q.barrier()\n",
    "        else:\n",
    "            q.ccx(n+j, n-j, n-j-1)\n",
    "            q.barrier()\n",
    "\n",
    "    return q"
   ],
   "outputs": [],
   "execution_count": 52
  },
  {
   "cell_type": "markdown",
   "metadata": {},
   "source": [
    "An example when $n=3$ and $L=5$"
   ]
  },
  {
   "cell_type": "code",
   "metadata": {
    "ExecuteTime": {
     "end_time": "2025-03-12T11:21:53.454413Z",
     "start_time": "2025-03-12T11:21:53.448556Z"
    }
   },
   "source": [
    "cmp_qc = make_comparator(3, 5)"
   ],
   "outputs": [],
   "execution_count": 53
  },
  {
   "cell_type": "code",
   "metadata": {
    "ExecuteTime": {
     "end_time": "2025-03-12T11:21:53.593970Z",
     "start_time": "2025-03-12T11:21:53.492433Z"
    }
   },
   "source": [
    "cmp_qc.draw(output='mpl')"
   ],
   "outputs": [
    {
     "data": {
      "text/plain": [
       "<Figure size 621.941x535.111 with 1 Axes>"
      ],
      "image/png": "[encoded data removed]"
     },
     "execution_count": 54,
     "metadata": {},
     "output_type": "execute_result"
    }
   ],
   "execution_count": 54
  },
  {
   "cell_type": "code",
   "metadata": {
    "ExecuteTime": {
     "end_time": "2025-03-12T11:21:53.655063Z",
     "start_time": "2025-03-12T11:21:53.652027Z"
    }
   },
   "source": [],
   "outputs": [],
   "execution_count": null
  },
  {
   "cell_type": "markdown",
   "metadata": {},
   "source": [
    "Definition of a `check_comparison`$(n,L, nb)$ method that invokes the `make_comparator` method, iterates over $0\\leq i\\leq 2^n-1$ to initialize the circuit with state $|i\\rangle \\otimes |0^n\\rangle$ and verifies that the measurement of the qubit at index $0$ returns the appropriate value for each value of $i$. Parameter $nb$ represents the number of shots used by the sampler to compute measurement outcome statistics."
   ]
  },
  {
   "cell_type": "code",
   "metadata": {
    "ExecuteTime": {
     "end_time": "2025-03-12T11:22:17.544188Z",
     "start_time": "2025-03-12T11:22:17.538446Z"
    }
   },
   "source": [
    "def check_comparison(n, L, numshots):\n",
    "    comp_qc = make_comparator(n, L)\n",
    "    #line below useless?\n",
    "    simulator = AerSimulator(method='statevector')\n",
    "    sampler = SamplerV2()   \n",
    "    for i in range(2**n):\n",
    "        qr = QuantumRegister(2*n)\n",
    "        qci = QuantumCircuit(qr)\n",
    "        init = [0 for _ in range(2**n)]\n",
    "        init[i] = 1\n",
    "        qci.initialize(init, qr[n:2*n])\n",
    "        res_qc = qci.compose(comp_qc)\n",
    "        meas_qc = add_measurement(res_qc)\n",
    "        qc = transpile(meas_qc, simulator)\n",
    "        job = sampler.run([qc], shots=numshots)\n",
    "        result = job.result()\n",
    "        prob = result[0].data.cl.get_counts()\n",
    "        print(f'Test if {i} >= {L}, measured output: {prob}')"
   ],
   "outputs": [],
   "execution_count": 92
  },
  {
   "cell_type": "code",
   "metadata": {
    "ExecuteTime": {
     "end_time": "2025-03-12T11:21:53.755811Z",
     "start_time": "2025-03-12T11:21:53.751470Z"
    }
   },
   "source": [
    "#check_comparison(4, 10, 1024)"
   ],
   "outputs": [],
   "execution_count": 56
  },
  {
   "cell_type": "markdown",
   "metadata": {},
   "source": [
    "\n",
    "# Storing a probability distribution in a quantum state\n",
    "\n",
    "The goal of this part is to design a circuit that permits to store a probability distribution in a quantum state.\n",
    "\n",
    "## Case where $n=2$\n",
    "\n",
    "We begin with the simple case where $n=2$. The cell below constructs a circuit permitting to store the probability distribution in a quantum state (with a single qubit). "
   ]
  },
  {
   "cell_type": "code",
   "metadata": {
    "ExecuteTime": {
     "end_time": "2025-03-12T11:22:22.841114Z",
     "start_time": "2025-03-12T11:22:22.836276Z"
    }
   },
   "source": [
    "def make_basic_qc(p):\n",
    "    qc =  QuantumCircuit(1)\n",
    "    theta = 2*math.acos(math.sqrt(p))\n",
    "    qc.ry(theta, 0)\n",
    "    return qc "
   ],
   "outputs": [],
   "execution_count": 96
  },
  {
   "cell_type": "code",
   "metadata": {
    "ExecuteTime": {
     "end_time": "2025-03-12T11:22:23.595255Z",
     "start_time": "2025-03-12T11:22:23.547051Z"
    }
   },
   "source": [
    "make_basic_qc(0.15).draw(output='mpl')"
   ],
   "outputs": [
    {
     "data": {
      "text/plain": [
       "<Figure size 185.453x117.056 with 1 Axes>"
      ],
      "image/png": "[encoded data removed]"
     },
     "execution_count": 97,
     "metadata": {},
     "output_type": "execute_result"
    }
   ],
   "execution_count": 97
  },
  {
   "cell_type": "code",
   "metadata": {
    "ExecuteTime": {
     "end_time": "2025-03-12T11:22:24.534346Z",
     "start_time": "2025-03-12T11:22:24.530379Z"
    }
   },
   "source": [
    "def get_state_probabilities(qc):\n",
    "  n = qc.num_qubits\n",
    "  statevector = Statevector(qc)\n",
    "  probabilities = {}\n",
    "  for i in range(2**n):\n",
    "    state = bin(i)[2:].zfill(n)\n",
    "    probabilities[state] = abs(statevector[i])**2  \n",
    "  return probabilities"
   ],
   "outputs": [],
   "execution_count": 98
  },
  {
   "cell_type": "code",
   "metadata": {
    "ExecuteTime": {
     "end_time": "2025-03-12T11:22:25.576089Z",
     "start_time": "2025-03-12T11:22:25.569301Z"
    }
   },
   "source": [
    "get_state_probabilities(make_basic_qc(0.15))"
   ],
   "outputs": [
    {
     "data": {
      "text/plain": [
       "{'0': np.float64(0.1499999999999999), '1': np.float64(0.8500000000000001)}"
      ]
     },
     "execution_count": 99,
     "metadata": {},
     "output_type": "execute_result"
    }
   ],
   "execution_count": 99
  },
  {
   "cell_type": "markdown",
   "metadata": {},
   "source": [
    "The probability of getting the outcome $0$ is close to $p$, likewise for $1$ and $1-p$."
   ]
  },
  {
   "cell_type": "markdown",
   "metadata": {},
   "source": [
    "## Circuit for an arbitrary value of $n$."
   ]
  },
  {
   "cell_type": "markdown",
   "metadata": {},
   "source": [
    "### Generation of the final prices grid"
   ]
  },
  {
   "cell_type": "markdown",
   "metadata": {},
   "source": [
    "Definition of a method `make_final_price_grid`$(n, \\mathrm{price\\_dict}, m)$ that generates a regular grid with size $2^n$ of final prices ranging between $\\max\\left(0, \\overline{S} - m\\cdot \\sigma\\right)$ and $\\overline{S} + m\\cdot \\sigma$. This method is based on the `linspace` method from **numpy**."
   ]
  },
  {
   "cell_type": "code",
   "metadata": {
    "ExecuteTime": {
     "end_time": "2025-03-12T13:38:40.663545Z",
     "start_time": "2025-03-12T13:38:40.656838Z"
    }
   },
   "source": [
    "def make_final_price_grid(n: int, price_dict: dict, m: int):\n",
    "\n",
    "    S = price_dict['S0']\n",
    "    T = price_dict['T']\n",
    "    sigma = price_dict['sigma']\n",
    "    r = price_dict['r']\n",
    "\n",
    "    s1 = S*np.exp(r*T)\n",
    "\n",
    "    sm = max(0, s1 - m*sigma)\n",
    "    sM = s1 + m*sigma\n",
    "\n",
    "\n",
    "    return np.linspace(sm, sM, 2**n)\n",
    "\n",
    "\n",
    "make_final_price_grid(5, price_dict, 3)[0]\n"
   ],
   "outputs": [
    {
     "data": {
      "text/plain": [
       "np.float64(1.5025421927520481)"
      ]
     },
     "execution_count": 143,
     "metadata": {},
     "output_type": "execute_result"
    }
   ],
   "execution_count": 143
  },
  {
   "cell_type": "markdown",
   "metadata": {},
   "source": [
    "Definition of a method `align`$(n, K, \\mathrm{price\\_dict}, m)$ that returns the value $L$ such that $s_L$ is the projection of $K$ on the final price grid. "
   ]
  },
  {
   "cell_type": "code",
   "metadata": {
    "ExecuteTime": {
     "end_time": "2025-03-12T13:59:47.298282Z",
     "start_time": "2025-03-12T13:59:47.293327Z"
    }
   },
   "source": [
    "def align(n, K, price_dict, m):\n",
    "    grid = make_final_price_grid(n, price_dict, m)\n",
    "    L = np.argmin(np.abs(grid - K))\n",
    "    return grid[L]\n",
    "\n",
    "def align_for_L(n, K, price_dict, m):\n",
    "    grid = make_final_price_grid(n, price_dict, m)\n",
    "    L = np.argmin(np.abs(grid - K))\n",
    "    return L\n"
   ],
   "outputs": [],
   "execution_count": 151
  },
  {
   "cell_type": "markdown",
   "metadata": {},
   "source": [
    "Test of the discretization error by comparing the outputs of `compound_black_scholes_call` on an arbitrary strike and on its projection on the final price grid."
   ]
  },
  {
   "cell_type": "code",
   "metadata": {
    "ExecuteTime": {
     "end_time": "2025-03-12T11:21:54.135019Z",
     "start_time": "2025-03-12T11:21:54.128412Z"
    }
   },
   "source": [
    "init_cpb = compound_black_scholes_call(price_dict, price_dict['S0'])\n",
    "disc_cpb = compound_black_scholes_call(price_dict, align(5,price_dict['S0'], price_dict, 3))"
   ],
   "outputs": [],
   "execution_count": 63
  },
  {
   "cell_type": "code",
   "metadata": {
    "ExecuteTime": {
     "end_time": "2025-03-12T11:21:54.183573Z",
     "start_time": "2025-03-12T11:21:54.179198Z"
    }
   },
   "source": [
    "print(f'init: {init_cpb}, disc: {disc_cpb}, error: {(init_cpb-disc_cpb)/init_cpb:.2%}')"
   ],
   "outputs": [
    {
     "name": "stdout",
     "output_type": "stream",
     "text": [
      "init: 0.21972792899401578, disc: 0.2165164556850805, error: 1.46%\n"
     ]
    }
   ],
   "execution_count": 64
  },
  {
   "cell_type": "markdown",
   "metadata": {},
   "source": [
    "### Generation of the probability values\n",
    "\n",
    "Definition of a method `make_probability_distribution` that returns a *last prices* grid and the corresponding value of each $p_i$ for $0 \\leq i < 2^n$. The arguments of this method are:\n",
    "- $n$: the number of qubits under consideration\n",
    "- $\\mathrm{price\\_dict}$: the dictionary with the mathematical characteristics of the underlying\n",
    "- $m$: the number of standard deviations to consider for the minimum and maximum bounds of the grid\n",
    "\n",
    "***Useful methods:*** \n",
    "$S_T$ is of the form $S_0e^{(r-\\tfrac{\\sigma^2}{2})T}\\cdot Z$, where $Z \\sim \\mathrm{lognorm}(\\sigma\\sqrt{T})$. The lognormal distribution is available thanks to the `lognorm` method from `scipy.stats`. The `scale` parameter is to be set to $1$.\n",
    "\n",
    "The probability values can be computed using the `cdf` method available on the lognormal distribution."
   ]
  },
  {
   "cell_type": "code",
   "metadata": {
    "ExecuteTime": {
     "end_time": "2025-03-12T11:21:54.239358Z",
     "start_time": "2025-03-12T11:21:54.232686Z"
    }
   },
   "source": [
    "def make_probability_distribution(n, pr_dict, num_stddev):\n",
    "    \"\"\"\n",
    "    Generate the probability distribution for the final stock prices.\n",
    "    \n",
    "    :param n: Number of qubits\n",
    "    :param pr_dict: Dictionary with the financial characteristics\n",
    "    :return: Probability distribution\n",
    "    \"\"\"\n",
    "    # Generate the log-normal distribution\n",
    "    S0 = pr_dict['S0']\n",
    "    r = pr_dict['r']\n",
    "    T = pr_dict['T']\n",
    "    sigma = pr_dict['sigma']\n",
    "\n",
    "    lognorm_dist = lognorm(sigma*np.sqrt(T), scale=1)\n",
    "\n",
    "    final_prices = make_final_price_grid(n, pr_dict, num_stddev)\n",
    "    sm = final_prices[0]\n",
    "    sM = final_prices[-1]\n",
    "    sM1 = sM + (sM-sm)/(2**n - 1)\n",
    "\n",
    "    final_prices_extra = np.append(final_prices, sM1)\n",
    "\n",
    "    def s(i):\n",
    "        si = final_prices_extra[i]/(S0*np.exp((r-0.5*sigma**2)*T))\n",
    "        return si\n",
    "\n",
    "    numerateur = [lognorm_dist.cdf(s(i+1)) - lognorm_dist.cdf(s(i)) for i in range(2**n)]\n",
    "    prob_distribs = numerateur/np.sum(numerateur)\n",
    "\n",
    "    return final_prices, prob_distribs\n"
   ],
   "outputs": [],
   "execution_count": 65
  },
  {
   "cell_type": "markdown",
   "metadata": {},
   "source": [
    "## Validation of the probability distribution, comparison of the Black-Scholes approximation"
   ]
  },
  {
   "cell_type": "code",
   "metadata": {
    "ExecuteTime": {
     "end_time": "2025-03-12T11:21:54.292078Z",
     "start_time": "2025-03-12T11:21:54.286726Z"
    }
   },
   "source": [
    "# Arbitrary value for n, will afterward be the size of the quantum circuit\n",
    "n_prob = 10\n",
    "n_stddev_prob = 4\n"
   ],
   "outputs": [],
   "execution_count": 66
  },
  {
   "cell_type": "markdown",
   "metadata": {},
   "source": [
    "Verification that the generated distribution sums to $1$."
   ]
  },
  {
   "cell_type": "code",
   "metadata": {
    "ExecuteTime": {
     "end_time": "2025-03-12T13:21:22.365754Z",
     "start_time": "2025-03-12T13:21:22.234951Z"
    }
   },
   "source": [
    "final_prices, prob_distribs = make_probability_distribution(n_prob, price_dict, n_stddev_prob)\n",
    "final_prices_test, prob_distribs_test = make_probability_distribution(5, price_dict, 4)\n",
    "np.sum(prob_distribs_test)"
   ],
   "outputs": [
    {
     "data": {
      "text/plain": [
       "np.float64(1.0)"
      ]
     },
     "execution_count": 130,
     "metadata": {},
     "output_type": "execute_result"
    }
   ],
   "execution_count": 130
  },
  {
   "cell_type": "code",
   "metadata": {
    "ExecuteTime": {
     "end_time": "2025-03-12T11:21:54.524081Z",
     "start_time": "2025-03-12T11:21:54.519871Z"
    }
   },
   "source": [],
   "outputs": [],
   "execution_count": null
  },
  {
   "cell_type": "markdown",
   "metadata": {},
   "source": [
    "Plot the generated distribution against the final price grid."
   ]
  },
  {
   "cell_type": "code",
   "metadata": {
    "ExecuteTime": {
     "end_time": "2025-03-12T11:21:54.698493Z",
     "start_time": "2025-03-12T11:21:54.599103Z"
    }
   },
   "source": [
    "plt.plot(final_prices, prob_distribs)\n",
    "plt.xlabel('i')\n",
    "plt.ylabel('$p_i$')\n",
    "plt.show()"
   ],
   "outputs": [
    {
     "data": {
      "text/plain": [
       "<Figure size 640x480 with 1 Axes>"
      ],
      "image/png": "[encoded data removed]"
     },
     "metadata": {},
     "output_type": "display_data"
    }
   ],
   "execution_count": 68
  },
  {
   "cell_type": "markdown",
   "metadata": {},
   "source": [
    "Compare the compounded Black-Scholes price of an option with the approximation of the expectation \n",
    "$$\\mathbb{E}\\left[(S_T - s_L)_+\\right] \\approx \\sum_{i=0}^{2^n-1}p_i\\cdot(s_i - s_L)_+.$$"
   ]
  },
  {
   "cell_type": "code",
   "metadata": {
    "ExecuteTime": {
     "end_time": "2025-03-12T11:21:54.736268Z",
     "start_time": "2025-03-12T11:21:54.730877Z"
    }
   },
   "source": [
    "def expectation_cmp(n, L, price_dict, n_stddev):\n",
    "    last_prices, prob_distribs = make_probability_distribution(n, price_dict, n_stddev)\n",
    "    sL = last_prices[L]\n",
    "    sum = 0\n",
    "    for i in range(0, 2**n):        \n",
    "        sum += (last_prices[i] - sL)*prob_distribs[i]*(i>=L)\n",
    "    bs = compound_black_scholes_call(price_dict, sL)\n",
    "    return {'bs': bs, 'sum': sum, 'strike': sL}"
   ],
   "outputs": [],
   "execution_count": 69
  },
  {
   "cell_type": "code",
   "metadata": {
    "ExecuteTime": {
     "end_time": "2025-03-12T11:21:54.777533Z",
     "start_time": "2025-03-12T11:21:54.771995Z"
    }
   },
   "source": [
    "def get_all_expect_comp(n, price_dict, num_stddev, num_points):\n",
    "    res = []\n",
    "    for L in range(0, 2**n,int(2**n/num_points)):\n",
    "        ex_cmp = expectation_cmp(n, L, price_dict, num_stddev)\n",
    "        print(f'L: {L} (strike {ex_cmp[\"strike\"]})')\n",
    "        res.append(ex_cmp)\n",
    "    return res"
   ],
   "outputs": [],
   "execution_count": 70
  },
  {
   "cell_type": "code",
   "metadata": {
    "ExecuteTime": {
     "end_time": "2025-03-12T11:21:56.392876Z",
     "start_time": "2025-03-12T11:21:54.822985Z"
    }
   },
   "source": [
    "res = get_all_expect_comp(n_prob, price_dict,n_stddev_prob, 20)"
   ],
   "outputs": [
    {
     "name": "stdout",
     "output_type": "stream",
     "text": [
      "L: 0 (strike 1.3025421927520482)\n",
      "L: 51 (strike 1.3823075886464764)\n",
      "L: 102 (strike 1.4620729845409044)\n",
      "L: 153 (strike 1.5418383804353326)\n",
      "L: 204 (strike 1.6216037763297608)\n",
      "L: 255 (strike 1.701369172224189)\n",
      "L: 306 (strike 1.7811345681186173)\n",
      "L: 357 (strike 1.8608999640130452)\n",
      "L: 408 (strike 1.9406653599074735)\n",
      "L: 459 (strike 2.0204307558019017)\n",
      "L: 510 (strike 2.1001961516963297)\n",
      "L: 561 (strike 2.179961547590758)\n",
      "L: 612 (strike 2.259726943485186)\n",
      "L: 663 (strike 2.339492339379614)\n",
      "L: 714 (strike 2.4192577352740425)\n",
      "L: 765 (strike 2.499023131168471)\n",
      "L: 816 (strike 2.5787885270628985)\n",
      "L: 867 (strike 2.658553922957327)\n",
      "L: 918 (strike 2.7383193188517554)\n",
      "L: 969 (strike 2.8180847147461834)\n",
      "L: 1020 (strike 2.8978501106406114)\n"
     ]
    }
   ],
   "execution_count": 71
  },
  {
   "cell_type": "code",
   "metadata": {
    "ExecuteTime": {
     "end_time": "2025-03-12T11:21:56.479671Z",
     "start_time": "2025-03-12T11:21:56.414534Z"
    }
   },
   "source": [
    "resbs = [x['bs'] for x in res]\n",
    "ressum = [x['sum'] for x in res]\n",
    "strikes = [x['strike'] for x in res]\n",
    "xcoord = price_dict['S0']\n",
    "plt.plot(strikes, resbs, label='Black-Scholes')\n",
    "plt.plot(strikes, ressum, label='Approx')\n",
    "plt.axvline(x=xcoord, color='r', linestyle='--', label=f'S0 = {xcoord}')\n",
    "plt.legend()\n",
    "plt.show()"
   ],
   "outputs": [
    {
     "data": {
      "text/plain": [
       "<Figure size 640x480 with 1 Axes>"
      ],
      "image/png": "[encoded data removed]"
     },
     "metadata": {},
     "output_type": "display_data"
    }
   ],
   "execution_count": 72
  },
  {
   "cell_type": "code",
   "metadata": {
    "ExecuteTime": {
     "end_time": "2025-03-12T11:21:56.518990Z",
     "start_time": "2025-03-12T11:21:56.510682Z"
    }
   },
   "source": [
    "abs_errors = [(x['sum'] - x['bs']) for x in res]\n",
    "abs_errors"
   ],
   "outputs": [
    {
     "data": {
      "text/plain": [
       "[np.float64(-0.039790820606088295),\n",
       " np.float64(-0.040624793195063624),\n",
       " np.float64(-0.04137968045038409),\n",
       " np.float64(-0.04201165918374339),\n",
       " np.float64(-0.04246955264979785),\n",
       " np.float64(-0.04269992779191878),\n",
       " np.float64(-0.04265306390566076),\n",
       " np.float64(-0.042288452938113064),\n",
       " np.float64(-0.041578753585550965),\n",
       " np.float64(-0.04051164770356755),\n",
       " np.float64(-0.03908960526586805),\n",
       " np.float64(-0.03732798134959156),\n",
       " np.float64(-0.035252075110969436),\n",
       " np.float64(-0.03289379287249733),\n",
       " np.float64(-0.030288438884452797),\n",
       " np.float64(-0.027471980789852992),\n",
       " np.float64(-0.024478960243704502),\n",
       " np.float64(-0.021341076954474722),\n",
       " np.float64(-0.01808637943480724),\n",
       " np.float64(-0.01473894580958613),\n",
       " np.float64(-0.011318923234109502)]"
      ]
     },
     "execution_count": 73,
     "metadata": {},
     "output_type": "execute_result"
    }
   ],
   "execution_count": 73
  },
  {
   "cell_type": "code",
   "metadata": {
    "ExecuteTime": {
     "end_time": "2025-03-12T11:21:56.640121Z",
     "start_time": "2025-03-12T11:21:56.563224Z"
    }
   },
   "source": [
    "plt.plot(strikes, abs_errors)\n",
    "xcoord = price_dict['S0']\n",
    "plt.axvline(x=xcoord, color='r', linestyle='--', label=f'x = {xcoord}')\n",
    "plt.legend()\n",
    "plt.show()"
   ],
   "outputs": [
    {
     "data": {
      "text/plain": [
       "<Figure size 640x480 with 1 Axes>"
      ],
      "image/png": "[encoded data removed]"
     },
     "metadata": {},
     "output_type": "display_data"
    }
   ],
   "execution_count": 74
  },
  {
   "cell_type": "markdown",
   "metadata": {},
   "source": [
    "## Recursive distribution computations\n",
    "\n",
    "Computation of the values $q_w$ and $\\theta_w$. The values of $q_w$ (resp. $\\theta_w$) where $w$ is of length $m$ are stored in a dictionnary for which each key is a string of length $m$. The dictionnaries with the values of $q$ (resp. $\\theta$) for $1 \\leq m \\leq n$ are stored in a dictionnary `DictQ` (resp. `DictTheta`)."
   ]
  },
  {
   "cell_type": "markdown",
   "metadata": {},
   "source": [
    "Definition of a function `generate_binary_strings`$(n)$ that takes a parameter $n$ and outputs a list of all binary strings of length $n$.\n",
    "\n",
    "Useful method: `product` from the `itertools` package"
   ]
  },
  {
   "cell_type": "code",
   "metadata": {
    "ExecuteTime": {
     "end_time": "2025-03-12T11:21:56.678989Z",
     "start_time": "2025-03-12T11:21:56.674732Z"
    }
   },
   "source": [
    "def generate_binary_strings(n: int):\n",
    "    return list(product([0, 1], repeat=n))\n",
    "\n"
   ],
   "outputs": [],
   "execution_count": 75
  },
  {
   "cell_type": "markdown",
   "metadata": {},
   "source": [
    "Definition of a method `make_dict_at_n` that creates the dictionary containing the values $q_w$ where $w$ is of length $n$. This method has two parameters:\n",
    "- the value of $n$\n",
    "- the probability distribution under consideration"
   ]
  },
  {
   "cell_type": "code",
   "metadata": {
    "ExecuteTime": {
     "end_time": "2025-03-12T11:21:56.729236Z",
     "start_time": "2025-03-12T11:21:56.726245Z"
    }
   },
   "source": [
    "def make_dict_at_n(n, prob_distribs):\n",
    "    w1 = generate_binary_strings(n)\n",
    "    qw = {}\n",
    "    for k in range(len(w1)):\n",
    "        w = ''.join(map(str, w1[k]))\n",
    "        qw[w] = prob_distribs[k]\n",
    "    return qw"
   ],
   "outputs": [],
   "execution_count": 76
  },
  {
   "cell_type": "code",
   "metadata": {
    "ExecuteTime": {
     "end_time": "2025-03-12T13:21:37.234739Z",
     "start_time": "2025-03-12T13:21:37.229189Z"
    }
   },
   "source": [
    "dict_n = make_dict_at_n(n_prob, prob_distribs)\n",
    "dict_n_test = make_dict_at_n(5, prob_distribs_test)"
   ],
   "outputs": [],
   "execution_count": 131
  },
  {
   "cell_type": "code",
   "metadata": {
    "ExecuteTime": {
     "end_time": "2025-03-12T11:21:56.827140Z",
     "start_time": "2025-03-12T11:21:56.824662Z"
    }
   },
   "source": [],
   "outputs": [],
   "execution_count": null
  },
  {
   "cell_type": "markdown",
   "metadata": {},
   "source": [
    "Definition of a method `make_all_dictQ` that iterates from $n-1$ to $1$ to generate all the required probability distributions. Note that the set of keys in the generated dictionary is $\\{1, \\ldots, n\\}$. This method has two parameters:\n",
    "- the value of $n$\n",
    "- the dictionary containing the probability distribution at level $n$ (generated by `make_dict_at_n`)"
   ]
  },
  {
   "cell_type": "code",
   "metadata": {
    "ExecuteTime": {
     "end_time": "2025-03-12T11:21:56.883616Z",
     "start_time": "2025-03-12T11:21:56.878779Z"
    }
   },
   "source": [
    "def make_all_dictQ(n, dict_n):\n",
    "    q_all_dict = {}\n",
    "    m = n-1\n",
    "    q_all_dict[n] = dict_n\n",
    "    while m > 0:\n",
    "        binary_strings_tuples = generate_binary_strings(m)\n",
    "        q_all_dict[m] = {}\n",
    "        for k in range(len(binary_strings_tuples)):\n",
    "            binary_strings = ''.join(map(str,binary_strings_tuples[k]))\n",
    "            q_all_dict[m][binary_strings] = q_all_dict[m + 1][binary_strings + '0'] + q_all_dict[m + 1][binary_strings + '1']\n",
    "        m = m-1\n",
    "    return q_all_dict"
   ],
   "outputs": [],
   "execution_count": 78
  },
  {
   "cell_type": "code",
   "metadata": {
    "ExecuteTime": {
     "end_time": "2025-03-12T13:21:42.560742Z",
     "start_time": "2025-03-12T13:21:42.554566Z"
    }
   },
   "source": [
    "dict_all_q = make_all_dictQ(n_prob, dict_n)\n",
    "dict_all_q_test = make_all_dictQ(5, dict_n_test)\n",
    "dict_all_q"
   ],
   "outputs": [
    {
     "data": {
      "text/plain": [
       "{5: {'00000': np.float64(0.007322765536620776),\n",
       "  '00001': np.float64(0.010506247975778519),\n",
       "  '00010': np.float64(0.014376522791152866),\n",
       "  '00011': np.float64(0.018847422161380186),\n",
       "  '00100': np.float64(0.023766617781231524),\n",
       "  '00101': np.float64(0.028928532414019752),\n",
       "  '00110': np.float64(0.03409447920222869),\n",
       "  '00111': np.float64(0.03901642782811171),\n",
       "  '01000': np.float64(0.04346058691122334),\n",
       "  '01001': np.float64(0.04722755078328395),\n",
       "  '01010': np.float64(0.050166804812969125),\n",
       "  '01011': np.float64(0.052184598691229635),\n",
       "  '01100': np.float64(0.053245313019380194),\n",
       "  '01101': np.float64(0.053367287713202094),\n",
       "  '01110': np.float64(0.05261458015610048),\n",
       "  '01111': np.float64(0.05108628970981495),\n",
       "  '10000': np.float64(0.04890498993318155),\n",
       "  '10001': np.float64(0.04620554074173151),\n",
       "  '10010': np.float64(0.04312519903789197),\n",
       "  '10011': np.float64(0.03979558147158503),\n",
       "  '10100': np.float64(0.036336707958389926),\n",
       "  '10101': np.float64(0.032853097820834544),\n",
       "  '10110': np.float64(0.029431711510028807),\n",
       "  '10111': np.float64(0.02614142591680414),\n",
       "  '11000': np.float64(0.023033688358610832),\n",
       "  '11001': np.float64(0.02014399801716698),\n",
       "  '11010': np.float64(0.01749389831962486),\n",
       "  '11011': np.float64(0.01509321580288174),\n",
       "  '11100': np.float64(0.01294233955576462),\n",
       "  '11101': np.float64(0.011034392682492719),\n",
       "  '11110': np.float64(0.009357198504478435),\n",
       "  '11111': np.float64(0.007894986880804606)},\n",
       " 4: {'0000': np.float64(0.017829013512399294),\n",
       "  '0001': np.float64(0.03322394495253305),\n",
       "  '0010': np.float64(0.05269515019525128),\n",
       "  '0011': np.float64(0.0731109070303404),\n",
       "  '0100': np.float64(0.09068813769450729),\n",
       "  '0101': np.float64(0.10235140350419876),\n",
       "  '0110': np.float64(0.10661260073258229),\n",
       "  '0111': np.float64(0.10370086986591542),\n",
       "  '1000': np.float64(0.09511053067491307),\n",
       "  '1001': np.float64(0.082920780509477),\n",
       "  '1010': np.float64(0.06918980577922447),\n",
       "  '1011': np.float64(0.055573137426832946),\n",
       "  '1100': np.float64(0.04317768637577781),\n",
       "  '1101': np.float64(0.0325871141225066),\n",
       "  '1110': np.float64(0.023976732238257338),\n",
       "  '1111': np.float64(0.01725218538528304)},\n",
       " 3: {'000': np.float64(0.051052958464932345),\n",
       "  '001': np.float64(0.12580605722559168),\n",
       "  '010': np.float64(0.19303954119870603),\n",
       "  '011': np.float64(0.2103134705984977),\n",
       "  '100': np.float64(0.17803131118439008),\n",
       "  '101': np.float64(0.12476294320605741),\n",
       "  '110': np.float64(0.07576480049828441),\n",
       "  '111': np.float64(0.041228917623540376)},\n",
       " 2: {'00': np.float64(0.17685901569052404),\n",
       "  '01': np.float64(0.40335301179720373),\n",
       "  '10': np.float64(0.3027942543904475),\n",
       "  '11': np.float64(0.11699371812182478)},\n",
       " 1: {'0': np.float64(0.5802120274877278), '1': np.float64(0.4197879725122723)}}"
      ]
     },
     "execution_count": 132,
     "metadata": {},
     "output_type": "execute_result"
    }
   ],
   "execution_count": 132
  },
  {
   "cell_type": "markdown",
   "metadata": {},
   "source": [
    "Definition of a method `make_all_dictTheta` that iterates from $0$ to $n-1$ to generate all the required angles. Note that the set of keys in the generated dictionary is $\\{0, \\ldots, n-1\\}$. This method has a single parameter: the dictionary generated by `make_all_dictQ`.\n",
    "\n",
    "For the sake of convenience, the element at key $0$ in the generated dictionary will be the angle $\\theta^{[0]}_\\varepsilon$ instead of a dictionary containing this angle (with the empty string as a key)."
   ]
  },
  {
   "cell_type": "code",
   "metadata": {
    "ExecuteTime": {
     "end_time": "2025-03-12T11:21:57.069034Z",
     "start_time": "2025-03-12T11:21:57.061207Z"
    }
   },
   "source": [
    "def make_all_dictTheta(n, dict_all_q):\n",
    "    theta_all_dict = {0: {'0': 2 * np.arccos(np.sqrt(dict_all_q[1]['0']))}}\n",
    "    for k in range(1, n):\n",
    "        binary_strings_tuples = generate_binary_strings(k)\n",
    "        theta_all_dict[k] = {}\n",
    "        for l in range(len(binary_strings_tuples)):\n",
    "            binary_strings = ''.join(map(str,binary_strings_tuples[l]))\n",
    "            w0 = binary_strings + '0'\n",
    "            theta_all_dict[k][binary_strings] = 2*np.arccos(np.sqrt(dict_all_q[k+1][w0]/dict_all_q[k][binary_strings]))\n",
    "    return theta_all_dict"
   ],
   "outputs": [],
   "execution_count": 80
  },
  {
   "cell_type": "code",
   "metadata": {
    "ExecuteTime": {
     "end_time": "2025-03-12T13:21:48.513677Z",
     "start_time": "2025-03-12T13:21:48.501824Z"
    }
   },
   "source": [
    "dict_all_theta = make_all_dictTheta(n_prob, dict_all_q)\n",
    "dict_all_theta_test = make_all_dictTheta(5, dict_all_q_test)\n",
    "dict_all_theta"
   ],
   "outputs": [
    {
     "data": {
      "text/plain": [
       "{0: {'0': np.float64(1.4096760695031458)},\n",
       " 1: {'0': np.float64(1.9718234572233342), '1': np.float64(1.1122939410063806)},\n",
       " 2: {'00': np.float64(2.0071863425549186),\n",
       "  '01': np.float64(1.6136352630902036),\n",
       "  '10': np.float64(1.3939533681991942),\n",
       "  '11': np.float64(1.2711374150021824)},\n",
       " 3: {'000': np.float64(1.8771124267186292),\n",
       "  '001': np.float64(1.7337967670579457),\n",
       "  '010': np.float64(1.6312521974945626),\n",
       "  '011': np.float64(1.556951165642474),\n",
       "  '100': np.float64(1.5022730165175808),\n",
       "  '101': np.float64(1.4614381577617568),\n",
       "  '110': np.float64(1.4305548515830437),\n",
       "  '111': np.float64(1.4069616966959158)},\n",
       " 4: {'0000': np.float64(1.7503152884483757),\n",
       "  '0001': np.float64(1.70577440466394),\n",
       "  '0010': np.float64(1.6689117302123329),\n",
       "  '0011': np.float64(1.6381689571089684),\n",
       "  '0100': np.float64(1.612345839701648),\n",
       "  '0101': np.float64(1.590511978333033),\n",
       "  '0110': np.float64(1.5719404197031788),\n",
       "  '0111': np.float64(1.5560583040941218),\n",
       "  '1000': np.float64(1.542410282391758),\n",
       "  '1001': np.float64(1.5306313289191549),\n",
       "  '1010': np.float64(1.5204264262785163),\n",
       "  '1011': np.float64(1.5115552783707642),\n",
       "  '1100': np.float64(1.503820717133121),\n",
       "  '1101': np.float64(1.4970598389679086),\n",
       "  '1110': np.float64(1.4911371727596847),\n",
       "  '1111': np.float64(1.485939371485472)}}"
      ]
     },
     "execution_count": 133,
     "metadata": {},
     "output_type": "execute_result"
    }
   ],
   "execution_count": 133
  },
  {
   "cell_type": "markdown",
   "metadata": {},
   "source": [
    "Definition of a method `make_qc_for_dict` that creates the general quantum circuit for the storage of a quantum distribution. This method has a unique parameter: the dictionary of rotation angles (generated by `make_all_dictTheta`).\n",
    "\n",
    "Some useful concepts and methods from Qiskit:\n",
    "- `RYGate` for $y$-rotation gates that are potentially controlled\n",
    "- `control`: the method to create the controlled version of a quantum gate. This method takes as parameters the number of control qubits, and possibly the state of the control qubits that will trigger the gate (`ctrl_state`)."
   ]
  },
  {
   "cell_type": "code",
   "metadata": {
    "ExecuteTime": {
     "end_time": "2025-03-12T13:11:49.379539Z",
     "start_time": "2025-03-12T13:11:49.373908Z"
    }
   },
   "source": [
    "def make_qc_for_dict(dict_all_theta: dict) -> QuantumCircuit:\n",
    "    n = len(dict_all_theta)\n",
    "    qc = QuantumCircuit(n)\n",
    "\n",
    "    # premiere rotation\n",
    "    qc.ry(dict_all_theta[0]['0'], n-1)\n",
    "    qc.barrier()\n",
    "\n",
    "    for k in range(1,n):\n",
    "        binary_strings_tuples = generate_binary_strings(k)\n",
    "\n",
    "        for l in binary_strings_tuples:\n",
    "            binary_strings = ''.join(map(str,l))\n",
    "            ry_gate = RYGate(dict_all_theta[k][binary_strings])\n",
    "            c5_ry_gate = ry_gate.control(k, ctrl_state=binary_strings)\n",
    "            qc.append(c5_ry_gate, [n-1-i for i in range(k+1)])\n",
    "        qc.barrier()\n",
    "\n",
    "    return qc\n",
    "\n",
    "\n",
    "\n",
    "\n",
    "\n"
   ],
   "outputs": [],
   "execution_count": 115
  },
  {
   "cell_type": "code",
   "metadata": {
    "ExecuteTime": {
     "end_time": "2025-03-12T13:11:51.791659Z",
     "start_time": "2025-03-12T13:11:50.945237Z"
    }
   },
   "source": "prob_distrib_qc = make_qc_for_dict(dict_all_theta)",
   "outputs": [],
   "execution_count": 116
  },
  {
   "metadata": {
    "ExecuteTime": {
     "end_time": "2025-03-12T13:22:02.760776Z",
     "start_time": "2025-03-12T13:22:02.741806Z"
    }
   },
   "cell_type": "code",
   "source": "#prob_distribs_qc_test = make_qc_for_dict(dict_all_theta_test)",
   "outputs": [],
   "execution_count": 134
  },
  {
   "cell_type": "code",
   "metadata": {
    "ExecuteTime": {
     "end_time": "2025-03-12T13:27:40.088051Z",
     "start_time": "2025-03-12T13:27:40.085629Z"
    }
   },
   "source": "#prob_distrib_qc.draw(output='mpl')\n",
   "outputs": [],
   "execution_count": 137
  },
  {
   "cell_type": "markdown",
   "metadata": {},
   "source": [
    "## Validation"
   ]
  },
  {
   "cell_type": "code",
   "metadata": {
    "ExecuteTime": {
     "end_time": "2025-03-12T12:38:32.793588Z",
     "start_time": "2025-03-12T12:38:26.533007Z"
    }
   },
   "source": [
    "circ_prob_distrib = get_state_probabilities(prob_distrib_qc)"
   ],
   "outputs": [],
   "execution_count": 105
  },
  {
   "cell_type": "code",
   "metadata": {
    "ExecuteTime": {
     "end_time": "2025-03-12T12:38:38.576697Z",
     "start_time": "2025-03-12T12:38:35.573764Z"
    }
   },
   "source": [
    "legend=[\"Target\", \"Simulation\"]\n",
    "plot_histogram([dict_n, circ_prob_distrib], legend=legend, title=\"Distribution comparison\", bar_labels=False)"
   ],
   "outputs": [
    {
     "data": {
      "text/plain": [
       "<Figure size 640x480 with 1 Axes>"
      ],
      "image/png": "[encoded data removed]"
     },
     "execution_count": 106,
     "metadata": {},
     "output_type": "execute_result"
    }
   ],
   "execution_count": 106
  },
  {
   "cell_type": "markdown",
   "metadata": {},
   "source": [
    "Global method that constructs a circuit that stores the probability distribution in a quantum state"
   ]
  },
  {
   "cell_type": "code",
   "metadata": {
    "ExecuteTime": {
     "end_time": "2025-03-12T11:22:09.831888Z",
     "start_time": "2025-03-12T11:22:09.828873Z"
    }
   },
   "source": [
    "def make_distribution_circuit(n, pricing_dict, num_stddev):\n",
    "    _ ,prob_distrib = make_probability_distribution(n, pricing_dict, num_stddev)\n",
    "    dict_pn = make_dict_at_n(n, prob_distrib)\n",
    "    dict_all_q = make_all_dictQ(n, dict_pn)\n",
    "    dict_all_theta = make_all_dictTheta(n,dict_all_q)\n",
    "    res = make_qc_for_dict(dict_all_theta)\n",
    "    return res"
   ],
   "outputs": [],
   "execution_count": 87
  },
  {
   "cell_type": "markdown",
   "metadata": {},
   "source": [
    "# Full integration"
   ]
  },
  {
   "cell_type": "code",
   "metadata": {
    "ExecuteTime": {
     "end_time": "2025-03-12T12:39:16.110896Z",
     "start_time": "2025-03-12T12:39:16.029082Z"
    }
   },
   "source": [
    "circ_dict = {'n': 3, 'd': 0.01, 'num_stddev': 3, 'm': 3}\n",
    "K = 2.0\n",
    "dist_circ = make_distribution_circuit(circ_dict['n'], price_dict, circ_dict['num_stddev'])\n",
    "dist_circ.draw(output='mpl')"
   ],
   "outputs": [
    {
     "data": {
      "text/plain": [
       "<Figure size 956.385x284.278 with 1 Axes>"
      ],
      "image/png": "[encoded data removed]"
     },
     "execution_count": 107,
     "metadata": {},
     "output_type": "execute_result"
    }
   ],
   "execution_count": 107
  },
  {
   "cell_type": "markdown",
   "metadata": {},
   "source": [
    "## Creation of the affine functions $f_0$ and $f_1$\n",
    "\n",
    "Computation of the values $a_i$ and $b_i$ such that $f_i = a_i + b_i\\cdot i$."
   ]
  },
  {
   "cell_type": "code",
   "metadata": {
    "ExecuteTime": {
     "end_time": "2025-03-12T13:57:24.108011Z",
     "start_time": "2025-03-12T13:57:24.104270Z"
    }
   },
   "source": [
    "\n",
    "\n",
    "\n",
    "def f(i, L: int, num=0, circ_dict= circ_dict, price_dict=price_dict):\n",
    "    d = circ_dict['d']\n",
    "    sm = price_dict['']\n",
    "    if num == 0:\n",
    "        return np.pi/4 - d/2\n",
    "    else:\n",
    "        return d*(1)\n",
    "\n"
   ],
   "outputs": [],
   "execution_count": 150
  },
  {
   "cell_type": "markdown",
   "metadata": {},
   "source": [
    "Comparison of the expectation to estimate with the expectation of its sine approximation."
   ]
  },
  {
   "cell_type": "code",
   "metadata": {
    "ExecuteTime": {
     "end_time": "2025-03-12T11:22:11.739135Z",
     "start_time": "2025-03-12T11:22:11.736940Z"
    }
   },
   "source": [
    "def compare_expect(circ_dict, price_dict, K):\n",
    "    # TO COMPLETE\n",
    "    return mean_f, mean_sin"
   ],
   "outputs": [],
   "execution_count": 90
  },
  {
   "cell_type": "code",
   "metadata": {
    "ExecuteTime": {
     "end_time": "2025-03-12T11:22:12.510787Z",
     "start_time": "2025-03-12T11:22:12.465464Z"
    }
   },
   "source": [
    "expect, sin_expect = compare_expect(circ_dict, price_dict, K)"
   ],
   "outputs": [
    {
     "ename": "NameError",
     "evalue": "name 'mean_f' is not defined",
     "output_type": "error",
     "traceback": [
      "\u001B[0;31m---------------------------------------------------------------------------\u001B[0m",
      "\u001B[0;31mNameError\u001B[0m                                 Traceback (most recent call last)",
      "Cell \u001B[0;32mIn[91], line 1\u001B[0m\n\u001B[0;32m----> 1\u001B[0m expect, sin_expect \u001B[38;5;241m=\u001B[39m \u001B[43mcompare_expect\u001B[49m\u001B[43m(\u001B[49m\u001B[43mcirc_dict\u001B[49m\u001B[43m,\u001B[49m\u001B[43m \u001B[49m\u001B[43mprice_dict\u001B[49m\u001B[43m,\u001B[49m\u001B[43m \u001B[49m\u001B[43mK\u001B[49m\u001B[43m)\u001B[49m\n",
      "Cell \u001B[0;32mIn[90], line 3\u001B[0m, in \u001B[0;36mcompare_expect\u001B[0;34m(circ_dict, price_dict, K)\u001B[0m\n\u001B[1;32m      1\u001B[0m \u001B[38;5;28;01mdef\u001B[39;00m\u001B[38;5;250m \u001B[39m\u001B[38;5;21mcompare_expect\u001B[39m(circ_dict, price_dict, K):\n\u001B[1;32m      2\u001B[0m     \u001B[38;5;66;03m# TO COMPLETE\u001B[39;00m\n\u001B[0;32m----> 3\u001B[0m     \u001B[38;5;28;01mreturn\u001B[39;00m \u001B[43mmean_f\u001B[49m, mean_sin\n",
      "\u001B[0;31mNameError\u001B[0m: name 'mean_f' is not defined"
     ]
    }
   ],
   "execution_count": 91
  },
  {
   "cell_type": "code",
   "execution_count": null,
   "metadata": {},
   "outputs": [],
   "source": [
    "expect, sin_expect"
   ]
  },
  {
   "cell_type": "markdown",
   "metadata": {},
   "source": [
    "Definition of methods to construct the circuits for $f_0$ and $f_1$ using the `encode_affine_function` method."
   ]
  },
  {
   "cell_type": "code",
   "execution_count": null,
   "metadata": {},
   "outputs": [],
   "source": []
  },
  {
   "cell_type": "markdown",
   "metadata": {},
   "source": [
    "## Comparison circuit\n",
    "\n",
    "Construction of the comparison circuit for a given strike price."
   ]
  },
  {
   "cell_type": "code",
   "execution_count": null,
   "metadata": {},
   "outputs": [],
   "source": [
    "def make_comparison_circuit(circ_dict, price_dict, K):\n",
    "    # TO COMPLETE"
   ]
  },
  {
   "cell_type": "code",
   "execution_count": null,
   "metadata": {},
   "outputs": [],
   "source": [
    "cmp_qc = make_comparison_circuit(circ_dict, price_dict, K)"
   ]
  },
  {
   "cell_type": "code",
   "execution_count": null,
   "metadata": {},
   "outputs": [],
   "source": [
    "cmp_qc.draw('mpl')"
   ]
  },
  {
   "cell_type": "markdown",
   "metadata": {},
   "source": [
    "## Integration\n",
    "\n",
    "Global integration to construct the global circuit encoding the pricing problem in a quantum state."
   ]
  },
  {
   "cell_type": "code",
   "execution_count": null,
   "metadata": {},
   "outputs": [],
   "source": [
    "def integration(circ_dict, price_dict, K):\n",
    "    # TO COMPLETE\n",
    "\n"
   ]
  },
  {
   "cell_type": "code",
   "execution_count": null,
   "metadata": {},
   "outputs": [],
   "source": [
    "qc_pricer = integration(circ_dict, price_dict, K)"
   ]
  },
  {
   "cell_type": "code",
   "execution_count": null,
   "metadata": {},
   "outputs": [],
   "source": [
    "qc_pricer.draw('mpl')"
   ]
  },
  {
   "cell_type": "code",
   "execution_count": null,
   "metadata": {},
   "outputs": [],
   "source": [
    "def qae_eval(qc_pricer):\n",
    "    obj_qubits = qc_pricer.find_bit(qc_pricer.qregs[3][0])\n",
    "    problem = EstimationProblem(state_preparation=qc_pricer, objective_qubits=[obj_qubits.index]) \n",
    "    iae = IterativeAmplitudeEstimation(\n",
    "        epsilon_target=0.01,  # Target accuracy\n",
    "        alpha=0.05,  # Confidence level\n",
    "    )\n",
    "    result = iae.estimate(problem).estimation\n",
    "    return result"
   ]
  },
  {
   "cell_type": "code",
   "execution_count": null,
   "metadata": {},
   "outputs": [],
   "source": [
    "res = qae_eval(qc_pricer)"
   ]
  },
  {
   "cell_type": "code",
   "execution_count": null,
   "metadata": {},
   "outputs": [],
   "source": [
    "print(f'sin_expect: {sin_expect}, res: {res}')"
   ]
  },
  {
   "cell_type": "markdown",
   "metadata": {},
   "source": []
  }
 ],
 "metadata": {
  "kernelspec": {
   "display_name": "Python 3 (ipykernel)",
   "language": "python",
   "name": "python3"
  },
  "language_info": {
   "codemirror_mode": {
    "name": "ipython",
    "version": 3
   },
   "file_extension": ".py",
   "mimetype": "text/x-python",
   "name": "python",
   "nbconvert_exporter": "python",
   "pygments_lexer": "ipython3",
   "version": "3.12.7"
  }
 },
 "nbformat": 4,
 "nbformat_minor": 2
}
