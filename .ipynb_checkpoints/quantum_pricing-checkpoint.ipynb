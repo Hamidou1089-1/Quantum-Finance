{
 "cells": [
  {
   "cell_type": "markdown",
   "metadata": {},
   "source": [
    "# List of imports\n",
    "\n",
    "The following list of imports should be sufficient to work on the project."
   ]
  },
  {
   "cell_type": "code",
   "execution_count": 1,
   "metadata": {
    "ExecuteTime": {
     "end_time": "2025-03-11T17:39:28.819314Z",
     "start_time": "2025-03-11T17:39:28.814677Z"
    }
   },
   "outputs": [
    {
     "ename": "ModuleNotFoundError",
     "evalue": "No module named 'qiskit'",
     "output_type": "error",
     "traceback": [
      "\u001b[0;31m---------------------------------------------------------------------------\u001b[0m",
      "\u001b[0;31mModuleNotFoundError\u001b[0m                       Traceback (most recent call last)",
      "Cell \u001b[0;32mIn[1], line 4\u001b[0m\n\u001b[1;32m      2\u001b[0m \u001b[38;5;28;01mimport\u001b[39;00m \u001b[38;5;21;01mmatplotlib\u001b[39;00m\u001b[38;5;21;01m.\u001b[39;00m\u001b[38;5;21;01mpyplot\u001b[39;00m \u001b[38;5;28;01mas\u001b[39;00m \u001b[38;5;21;01mplt\u001b[39;00m\n\u001b[1;32m      3\u001b[0m \u001b[38;5;28;01mimport\u001b[39;00m \u001b[38;5;21;01mnumpy\u001b[39;00m \u001b[38;5;28;01mas\u001b[39;00m \u001b[38;5;21;01mnp\u001b[39;00m\n\u001b[0;32m----> 4\u001b[0m \u001b[38;5;28;01mfrom\u001b[39;00m \u001b[38;5;21;01mqiskit\u001b[39;00m \u001b[38;5;28;01mimport\u001b[39;00m QuantumCircuit, QuantumRegister, ClassicalRegister, transpile\n\u001b[1;32m      5\u001b[0m \u001b[38;5;28;01mfrom\u001b[39;00m \u001b[38;5;21;01mqiskit\u001b[39;00m\u001b[38;5;21;01m.\u001b[39;00m\u001b[38;5;21;01mcircuit\u001b[39;00m\u001b[38;5;21;01m.\u001b[39;00m\u001b[38;5;21;01mlibrary\u001b[39;00m \u001b[38;5;28;01mimport\u001b[39;00m OrGate\n\u001b[1;32m      6\u001b[0m \u001b[38;5;28;01mfrom\u001b[39;00m \u001b[38;5;21;01mqiskit\u001b[39;00m\u001b[38;5;21;01m.\u001b[39;00m\u001b[38;5;21;01mcircuit\u001b[39;00m\u001b[38;5;21;01m.\u001b[39;00m\u001b[38;5;21;01mlibrary\u001b[39;00m\u001b[38;5;21;01m.\u001b[39;00m\u001b[38;5;21;01mstandard_gates\u001b[39;00m \u001b[38;5;28;01mimport\u001b[39;00m RYGate\n",
      "\u001b[0;31mModuleNotFoundError\u001b[0m: No module named 'qiskit'"
     ]
    }
   ],
   "source": [
    "import math\n",
    "import matplotlib.pyplot as plt\n",
    "import numpy as np\n",
    "from qiskit import QuantumCircuit, QuantumRegister, ClassicalRegister, transpile\n",
    "from qiskit.circuit.library import OrGate\n",
    "from qiskit.circuit.library.standard_gates import RYGate\n",
    "from qiskit_aer import AerSimulator\n",
    "from qiskit_aer.primitives import SamplerV2\n",
    "from qiskit.visualization import plot_histogram\n",
    "from qiskit.quantum_info import Statevector, Operator\n",
    "from qiskit_algorithms import IterativeAmplitudeEstimation, EstimationProblem\n",
    "from itertools import product\n",
    "from scipy.stats import norm, lognorm\n"
   ]
  },
  {
   "cell_type": "markdown",
   "metadata": {},
   "source": [
    "# Standard pricing of a call option\n",
    "\n",
    "The code below permits to compute the price of a call option using the Black-Scholes closed formula, and then approximating it using a Monte Carlo method."
   ]
  },
  {
   "cell_type": "markdown",
   "metadata": {},
   "source": [
    "## Black-Scholes price of the call option\n",
    "\n",
    "Definition of the function implementing the closed formula for the price of a call option"
   ]
  },
  {
   "cell_type": "code",
   "execution_count": null,
   "metadata": {
    "ExecuteTime": {
     "end_time": "2025-03-11T17:29:00.731301Z",
     "start_time": "2025-03-11T17:29:00.727324Z"
    }
   },
   "outputs": [],
   "source": [
    "def black_scholes_call(S, K, T, r, sigma):\n",
    "    \"\"\"\n",
    "    Calculate the Black-Scholes price for a European call option.\n",
    "    \n",
    "    :param S: Current stock price\n",
    "    :param K: Strike price\n",
    "    :param T: Maturity (in years)\n",
    "    :param r: Risk-free interest rate (annual)\n",
    "    :param sigma: Volatility of the stock (annual)\n",
    "    :return: Call option price\n",
    "    \"\"\"\n",
    "    d1 = (np.log(S / K) + (r + 0.5 * sigma**2) * T) / (sigma * np.sqrt(T))\n",
    "    d2 = d1 - sigma * np.sqrt(T)\n",
    "    call_price = S * norm.cdf(d1) - K * np.exp(-r * T) * norm.cdf(d2)\n",
    "    return call_price"
   ]
  },
  {
   "cell_type": "markdown",
   "metadata": {},
   "source": [
    "### Characteristics to price the call option"
   ]
  },
  {
   "cell_type": "code",
   "execution_count": null,
   "metadata": {
    "ExecuteTime": {
     "end_time": "2025-03-11T17:29:00.772966Z",
     "start_time": "2025-03-11T17:29:00.768253Z"
    }
   },
   "outputs": [],
   "source": [
    "# Financial characteristics that are also required to compute the probability distribution\n",
    "sigma = 0.2 # volatility (annualized)\n",
    "T = 1 # maturity (in years)\n",
    "r = 0.05 # risk-free rate (annualized)\n",
    "S0 = 2 # initial stock price\n",
    "K = 2 # strike price"
   ]
  },
  {
   "cell_type": "markdown",
   "metadata": {},
   "source": [
    "Evaluation of the price for the given set of parameters"
   ]
  },
  {
   "cell_type": "code",
   "execution_count": null,
   "metadata": {
    "ExecuteTime": {
     "end_time": "2025-03-11T17:29:00.826217Z",
     "start_time": "2025-03-11T17:29:00.822623Z"
    }
   },
   "outputs": [],
   "source": [
    "call_price = black_scholes_call(S0, K, T, r, sigma)\n",
    "print(f\"Call option price: {call_price}\")"
   ]
  },
  {
   "cell_type": "markdown",
   "metadata": {},
   "source": [
    "## Compounded Black-Scholes price of the call option"
   ]
  },
  {
   "cell_type": "markdown",
   "metadata": {},
   "source": [
    "In this project, we are actually interested in the compounded value of the call price. Data is stored in dictionaries."
   ]
  },
  {
   "cell_type": "markdown",
   "metadata": {},
   "source": [
    "Dictionary for the pricing characteristics"
   ]
  },
  {
   "cell_type": "code",
   "execution_count": null,
   "metadata": {
    "ExecuteTime": {
     "end_time": "2025-03-11T17:29:00.879224Z",
     "start_time": "2025-03-11T17:29:00.875582Z"
    }
   },
   "outputs": [],
   "source": [
    "price_dict = {'S0': S0, 'r': r, 'sigma': sigma, 'T': T}\n",
    "\n",
    "print(price_dict)"
   ]
  },
  {
   "cell_type": "code",
   "execution_count": null,
   "metadata": {
    "ExecuteTime": {
     "end_time": "2025-03-11T17:29:00.933107Z",
     "start_time": "2025-03-11T17:29:00.928199Z"
    }
   },
   "outputs": [],
   "source": [
    "def compound_black_scholes_call(price_dict, K):\n",
    "    \"\"\"\n",
    "    Calculate the Black-Scholes price for a European call option.\n",
    "    \n",
    "    :param S: Current stock price\n",
    "    :param K: Strike price\n",
    "    :param T: Maturity (in years)\n",
    "    :param r: Risk-free interest rate (annual)\n",
    "    :param sigma: Volatility of the stock (annual)\n",
    "    :return: Call option price\n",
    "    \"\"\"\n",
    "    S0 = price_dict['S0']\n",
    "    T = price_dict['T']\n",
    "    r = price_dict['r']\n",
    "    sigma = price_dict['sigma']\n",
    "    call_price = black_scholes_call(S0, K, T, r, sigma)\n",
    "    compound = np.exp(r * T)\n",
    "    return compound * call_price"
   ]
  },
  {
   "cell_type": "code",
   "execution_count": null,
   "metadata": {
    "ExecuteTime": {
     "end_time": "2025-03-11T17:29:00.983840Z",
     "start_time": "2025-03-11T17:29:00.980660Z"
    }
   },
   "outputs": [],
   "source": [
    "compound_call_price = compound_black_scholes_call(price_dict, K)\n",
    "print(f\"Compounded call option price: {compound_call_price}\")"
   ]
  },
  {
   "cell_type": "markdown",
   "metadata": {},
   "source": [
    "## Monte Carlo evaluation of the compounded price of the call option\n",
    "\n",
    "Complete the code below to evaluate the compounded price of the call option. A sample of $\\mathcal{N}(0,1)$ can be generated using the command `random.standard_normal` from **numpy**"
   ]
  },
  {
   "cell_type": "code",
   "execution_count": null,
   "metadata": {
    "ExecuteTime": {
     "end_time": "2025-03-11T17:29:01.035961Z",
     "start_time": "2025-03-11T17:29:01.031030Z"
    }
   },
   "outputs": [],
   "source": [
    "def monte_carlo_black_scholes(price_dict, K, num_simulations):\n",
    "    \"\"\"\n",
    "    Monte Carlo simulation for Black-Scholes option pricing.\n",
    "    \n",
    "    :param price_dict: Dictionary containing the pricing characteristics\n",
    "    :param K: Strike price\n",
    "    :param num_simulations: Number of Monte Carlo simulations\n",
    "    :return: Option price\n",
    "    \"\"\"\n",
    "    # Retrieve pricing characteristics\n",
    "    S0 = price_dict['S0']\n",
    "    T = price_dict['T']\n",
    "    r = price_dict['r']\n",
    "    sigma = price_dict['sigma']\n",
    "    # Generate random price paths\n",
    "    payoffs = np.zeros((num_simulations, 2))\n",
    "    G = np.random.normal(0, 1, [1,num_simulations])\n",
    "    ST = S0*np.exp((r - 0.5*sigma**2)*T + sigma*np.sqrt(T)*G)\n",
    "    payoffs[:, 1] = ST - K\n",
    "\n",
    "\n",
    "    compound_option_price = np.sum(np.amax(payoffs, axis=1))/float(num_simulations)\n",
    "    \n",
    "    return compound_option_price"
   ]
  },
  {
   "cell_type": "code",
   "execution_count": null,
   "metadata": {
    "ExecuteTime": {
     "end_time": "2025-03-11T17:29:01.123248Z",
     "start_time": "2025-03-11T17:29:01.081919Z"
    }
   },
   "outputs": [],
   "source": [
    "monte_carlo_black_scholes(price_dict, K, 500000)\n"
   ]
  },
  {
   "cell_type": "code",
   "execution_count": null,
   "metadata": {
    "ExecuteTime": {
     "end_time": "2025-03-11T17:29:01.176736Z",
     "start_time": "2025-03-11T17:29:01.174551Z"
    }
   },
   "outputs": [],
   "source": []
  },
  {
   "cell_type": "markdown",
   "metadata": {},
   "source": [
    "# Storing a linear function in a quantum state\n",
    "\n",
    "## Presentation\n",
    "The goal of this part is to construct a circuit that permits to encode an affine function $f: x\\mapsto a + bx$ on $n$ qubits, under the constraint that $a$ and $b$ are such that $f(x) \\in [0,1]$ for all $x\\in \\{0, \\ldots, 2^n-1\\}$.\n",
    "\n",
    "The encoding is based on the approximation $\\sin^2\\left(y + \\frac{\\pi}{4}\\right) = y + \\frac{1}{2} + O\\left(y^3\\right)$, where $y$ is replaced by $d\\cdot\\left(f(x) + \\frac{1}{2}\\right)$."
   ]
  },
  {
   "cell_type": "markdown",
   "metadata": {},
   "source": [
    "## Encoding the affine function\n",
    "\n",
    "Creation of a method `encode_affine_function`$(n,a,b)$ that encodes the function $f$ defined above into a circuit using rotation gates."
   ]
  },
  {
   "cell_type": "code",
   "execution_count": null,
   "metadata": {
    "ExecuteTime": {
     "end_time": "2025-03-11T17:29:01.206764Z",
     "start_time": "2025-03-11T17:29:01.201237Z"
    }
   },
   "outputs": [],
   "source": [
    "\n",
    "\n",
    "def encode_affine_function(n, a, b):\n",
    "    qc = QuantumCircuit(n+1)\n",
    "\n",
    "    qc.ry(2*a, 0)\n",
    "\n",
    "    for k in range(1, n+1):\n",
    "        qc.cry(b*2**k, k, 0)\n",
    "\n",
    "    return qc\n",
    "\n",
    "\n",
    "\n"
   ]
  },
  {
   "cell_type": "markdown",
   "metadata": {},
   "source": [
    "## Testing the circuit\n",
    "\n",
    "Definition of a method `convert_affine`$(a,b,d)$ that outputs values `a_out` and `b_out` for the transformed affine function."
   ]
  },
  {
   "cell_type": "code",
   "execution_count": null,
   "metadata": {
    "ExecuteTime": {
     "end_time": "2025-03-11T17:29:01.265100Z",
     "start_time": "2025-03-11T17:29:01.259734Z"
    }
   },
   "outputs": [],
   "source": [
    "def convert_affine(a,b,d):\n",
    "    a_out = d*(a-0.5)+np.pi/4\n",
    "    b_out = d*b\n",
    "    return a_out, b_out"
   ]
  },
  {
   "cell_type": "markdown",
   "metadata": {},
   "source": [
    "The `get_one_prob` method below permits to compute the probability of reading value '1' on qubit $0$ upon a measurement. "
   ]
  },
  {
   "cell_type": "code",
   "execution_count": null,
   "metadata": {
    "ExecuteTime": {
     "end_time": "2025-03-11T17:29:01.317443Z",
     "start_time": "2025-03-11T17:29:01.311370Z"
    }
   },
   "outputs": [],
   "source": [
    "def get_one_prob(qc, numshots):\n",
    "    job = SamplerV2().run([qc], shots=numshots)\n",
    "    result = job.result()\n",
    "    #print(result[0].data.shape.count('1'))\n",
    "    #prob = result[0].data.shape.count('1')/numshots\n",
    "    prob = result[0].data.cl.get_counts()['1']/numshots\n",
    "    #print(f\"Probability: {prob}\")\n",
    "\n",
    "    return prob\n",
    "\n"
   ]
  },
  {
   "cell_type": "markdown",
   "metadata": {},
   "source": [
    "Creation of a method `add_measurement`(`qc`) method that copies circuit `qc`, adds a classical register with a single bit to the new copy and adds a measurement of qubit $0$ with the result stored in the classical bit. The resulting circuit will be used to guarantee that the circuit correctly encodes the affine function."
   ]
  },
  {
   "cell_type": "code",
   "execution_count": null,
   "metadata": {
    "ExecuteTime": {
     "end_time": "2025-03-11T17:29:01.366799Z",
     "start_time": "2025-03-11T17:29:01.363608Z"
    }
   },
   "outputs": [],
   "source": [
    "def add_measurement(qc: QuantumCircuit):\n",
    "    cr = ClassicalRegister(1)\n",
    "    qc.add_register(cr)\n",
    "    qc.measure(0, cr)\n",
    "    return qc\n"
   ]
  },
  {
   "cell_type": "markdown",
   "metadata": {},
   "source": [
    "### Validation"
   ]
  },
  {
   "cell_type": "code",
   "execution_count": null,
   "metadata": {
    "ExecuteTime": {
     "end_time": "2025-03-11T17:29:01.415584Z",
     "start_time": "2025-03-11T17:29:01.412226Z"
    }
   },
   "outputs": [],
   "source": [
    "# Number of qubits in the circuit\n",
    "n_test = 3\n",
    "\n",
    "# Arbitrary value for b\n",
    "b_test = 1.0/(2**n_test)\n",
    "\n",
    "# Arbitrary value for a, with the constraint that 0 <= f(x) <= 1 for all x\n",
    "a_test = 1.0/(2**(n_test+1))\n",
    "\n",
    "# Arbitrary value for d\n",
    "d_test = 0.1"
   ]
  },
  {
   "cell_type": "code",
   "execution_count": null,
   "metadata": {
    "ExecuteTime": {
     "end_time": "2025-03-11T17:29:01.464602Z",
     "start_time": "2025-03-11T17:29:01.461520Z"
    }
   },
   "outputs": [],
   "source": [
    "pure_affine = encode_affine_function(n_test, a_test, b_test)"
   ]
  },
  {
   "cell_type": "code",
   "execution_count": null,
   "metadata": {
    "ExecuteTime": {
     "end_time": "2025-03-11T17:29:01.579597Z",
     "start_time": "2025-03-11T17:29:01.513146Z"
    }
   },
   "outputs": [],
   "source": [
    "pure_affine.draw(output='mpl')"
   ]
  },
  {
   "cell_type": "code",
   "execution_count": null,
   "metadata": {
    "ExecuteTime": {
     "end_time": "2025-03-11T17:29:01.608195Z",
     "start_time": "2025-03-11T17:29:01.603528Z"
    }
   },
   "outputs": [],
   "source": [
    "measure_affine = add_measurement(pure_affine)"
   ]
  },
  {
   "cell_type": "code",
   "execution_count": null,
   "metadata": {
    "ExecuteTime": {
     "end_time": "2025-03-11T17:29:01.735968Z",
     "start_time": "2025-03-11T17:29:01.646853Z"
    }
   },
   "outputs": [],
   "source": [
    "measure_affine.draw(output='mpl')"
   ]
  },
  {
   "cell_type": "markdown",
   "metadata": {},
   "source": [
    "Creation of a method `initializer`$(qc,i)$ that takes as an input a quantum circuit $qc$ consisting of $n$ qubits and an integer $0\\leq i \\leq 2^{n} -1$, and creates a new quantum circuit in which the initial state is $|i\\rangle$."
   ]
  },
  {
   "cell_type": "code",
   "execution_count": null,
   "metadata": {
    "ExecuteTime": {
     "end_time": "2025-03-11T17:29:01.788898Z",
     "start_time": "2025-03-11T17:29:01.783041Z"
    }
   },
   "outputs": [],
   "source": [
    "def initializer(qc: QuantumCircuit, i: int) -> QuantumCircuit:\n",
    "    \"\"\"\n",
    "    Je suppose que la notation |i> c'est la meme que |i>n, donc l'ecriture binaire de i\n",
    "    :param qc:\n",
    "    :param i:\n",
    "    :return:\n",
    "    \"\"\"\n",
    "    n_qubits = qc.num_qubits\n",
    "    # Get binary representation of i with leading zeros\n",
    "    i_bin = format(i, f'0{n_qubits}b')\n",
    "\n",
    "    # Apply X gates to qubits where the corresponding bit is 1\n",
    "    for qubit, bit in enumerate(reversed(i_bin)):  # Reverse because qubit 0 is least significant bit\n",
    "        if bit == '1':\n",
    "            qc.x(qubit)\n",
    "    return qc\n",
    "\n",
    "\n",
    "\n"
   ]
  },
  {
   "cell_type": "markdown",
   "metadata": {},
   "source": [
    "We provide below a method `compare_values`$(n,a,b,d,i)$ that compares the expected value \n",
    "$$d\\cdot\\left(f(i)-\\frac{1}{2}\\right) + \\frac{1}{2} = d\\cdot\\left(a+i\\cdot b - \\frac{1}{2}\\right) + \\frac{1}{2}$$\n",
    "with the probability of measuring value $1$ in the constructed circuit. The method prints the expected value, the probability of measuring the value $1$ and the relative error between both.\n",
    "\n",
    "This method is in charge of:\n",
    "- Invoking `convert_affine` to get the appropriate parameters for the encoded affine function\n",
    "- Creating the initial circuit (`encode_affine_function`)\n",
    "- Invoking the `initializer` to set the desired initial state\n",
    "- Adding a classical bit to measure the first qubit (`add_measurement` method) and using the `get_one_prob` method to compute the probability of measuring the value $1$"
   ]
  },
  {
   "cell_type": "code",
   "execution_count": null,
   "metadata": {
    "ExecuteTime": {
     "end_time": "2025-03-11T17:29:01.832995Z",
     "start_time": "2025-03-11T17:29:01.828441Z"
    }
   },
   "outputs": [],
   "source": [
    "def compare_values(n, a, b, d, i):\n",
    "    a_out, b_out = convert_affine(a, b, d)\n",
    "    encoded_qc = encode_affine_function(n, a_out, b_out)\n",
    "    initialized_qc = initializer(encoded_qc,i)\n",
    "    measured_qc = add_measurement(initialized_qc)\n",
    "    output_prob = get_one_prob(measured_qc, 10000)\n",
    "    expected_value = d*(a+b*i -0.5) + 0.5\n",
    "    relative_error =(expected_value-output_prob)/expected_value\n",
    "    print(f'Expected value: {expected_value}, measured output: {output_prob}, relative error: {relative_error:.2%}')"
   ]
  },
  {
   "cell_type": "code",
   "execution_count": null,
   "metadata": {
    "ExecuteTime": {
     "end_time": "2025-03-11T17:29:01.872654Z",
     "start_time": "2025-03-11T17:29:01.867475Z"
    }
   },
   "outputs": [],
   "source": [
    "def compare_all_values(n, a, b, d):\n",
    "    for i in range(2**n):\n",
    "        compare_values(n, a, b, d, i)"
   ]
  },
  {
   "cell_type": "code",
   "execution_count": null,
   "metadata": {
    "ExecuteTime": {
     "end_time": "2025-03-11T17:29:01.923475Z",
     "start_time": "2025-03-11T17:29:01.918508Z"
    }
   },
   "outputs": [],
   "source": [
    "#compare_all_values(n_test, a_test, b_test, d_test)"
   ]
  },
  {
   "cell_type": "markdown",
   "metadata": {},
   "source": [
    "# A quantum circuit for integer comparison\n",
    "\n",
    "The goal of this part is to construct a circuit of size $n$, parameterized by an integer $0\\leq L \\leq 2^n-1$, that permits to detect whether a given state $|i\\rangle$ is such that $i < L$ or $i\\geq L$."
   ]
  },
  {
   "cell_type": "markdown",
   "metadata": {},
   "source": [
    "## Creation of the 'or' gate\n",
    "\n",
    "Definition of a method `or_gate`() that constructs a quantum circuit representing an *or* gate using the method described in the exercise sheet. The resulting circuit can be used as a standard gate thanks to the `to_gate()` method. It will be necessary to invoke the `transpile` method before measurement outcomes can be computed."
   ]
  },
  {
   "cell_type": "code",
   "execution_count": null,
   "metadata": {
    "ExecuteTime": {
     "end_time": "2025-03-11T17:29:01.971298Z",
     "start_time": "2025-03-11T17:29:01.968183Z"
    }
   },
   "outputs": [],
   "source": [
    "def or_gate()->QuantumCircuit:\n",
    "    qc = QuantumCircuit(3, name='OR')\n",
    "    qc.x(range(3))\n",
    "    #qc.barrier()\n",
    "    qc.ccx(2, 1, 0)\n",
    "    #qc.barrier()\n",
    "    qc.x([1,2])\n",
    "    return qc"
   ]
  },
  {
   "cell_type": "markdown",
   "metadata": {},
   "source": [
    "We can verify that the *or* gate has the appropriate behavior by computing the probabilities of measuring a $1$ on qubit $2$ for different initial states.\n",
    "\n",
    "\n",
    "**Useful methods**: \n",
    "- The `initialize` method defined above.\n",
    "- The `to_gate()` instruction can be used to convert a circuit into a gate.\n",
    "- The `transpile()` instruction allows the AerSimulator to convert the *or* gate back to known gates."
   ]
  },
  {
   "cell_type": "code",
   "execution_count": null,
   "metadata": {
    "ExecuteTime": {
     "end_time": "2025-03-11T17:29:02.314328Z",
     "start_time": "2025-03-11T17:29:02.019564Z"
    }
   },
   "outputs": [],
   "source": [
    "dict_num = {\n",
    "    \"0 OR 0\": 0,\n",
    "    \"1 OR 0\": 2,\n",
    "    \"0 OR 1\": 4,\n",
    "    \"1 OR 1\": 6,\n",
    "}\n",
    "for label, initial_state in dict_num.items():\n",
    "    qc = QuantumCircuit(3, 1)\n",
    "    qc = initializer(qc, initial_state)\n",
    "\n",
    "    or_circuit = or_gate()\n",
    "    # Je compose les deux circuits, mais on pourrait convertir en gate, ce qui sera d'ailleur utile pour la suite\n",
    "    qc = qc.compose(or_circuit)\n",
    "\n",
    "    qc.measure(0, 0)\n",
    "\n",
    "    simulator = AerSimulator()\n",
    "    compiled_circuit = transpile(qc, simulator)\n",
    "    result = simulator.run(compiled_circuit, shots=1024).result()\n",
    "    counts = result.get_counts()\n",
    "\n",
    "    print(f\"{label} = {list(counts.keys())[0]}\")"
   ]
  },
  {
   "cell_type": "markdown",
   "metadata": {},
   "source": [
    "## Construction of the comparator circuit\n",
    "\n",
    "Definition of a `make_comparator`$(n,L)$ method that creates a circuit $q$ of size $2n$ such that, when state $|i\\rangle \\otimes |0^n\\rangle$ is fed as an input, we obtain a state $|x_{2n-1}\\cdots x_0\\rangle$ as an output with $|x_0\\rangle = |0\\rangle$ exactly when $i < L$. "
   ]
  },
  {
   "cell_type": "code",
   "execution_count": null,
   "metadata": {
    "ExecuteTime": {
     "end_time": "2025-03-11T17:29:02.354600Z",
     "start_time": "2025-03-11T17:29:02.349668Z"
    }
   },
   "outputs": [],
   "source": [
    "def make_comparator(n: int, L: int) -> QuantumCircuit:\n",
    "    q = QuantumCircuit(2*n)\n",
    "    or_circuit = or_gate()\n",
    "    gate_or = or_circuit.to_gate(label='OR')\n",
    "\n",
    "    l_to_binary = format(2**n - L, f'0{n}b')\n",
    "    if l_to_binary[n - 1] == '1':\n",
    "        q.cx(n, n-1)\n",
    "        q.barrier()\n",
    "    for j in range(1, n):\n",
    "        if l_to_binary[n-1-j] == '1':\n",
    "            q.append(gate_or, [n+j, n-j, n-j-1])\n",
    "            q.barrier()\n",
    "        else:\n",
    "            q.ccx(n+j, n-j, n-j-1)\n",
    "            q.barrier()\n",
    "\n",
    "    return q"
   ]
  },
  {
   "cell_type": "markdown",
   "metadata": {},
   "source": [
    "An example when $n=3$ and $L=5$"
   ]
  },
  {
   "cell_type": "code",
   "execution_count": null,
   "metadata": {
    "ExecuteTime": {
     "end_time": "2025-03-11T17:29:02.393499Z",
     "start_time": "2025-03-11T17:29:02.388819Z"
    }
   },
   "outputs": [],
   "source": [
    "cmp_qc = make_comparator(3, 5)"
   ]
  },
  {
   "cell_type": "code",
   "execution_count": null,
   "metadata": {
    "ExecuteTime": {
     "end_time": "2025-03-11T17:29:02.532887Z",
     "start_time": "2025-03-11T17:29:02.441933Z"
    }
   },
   "outputs": [],
   "source": [
    "cmp_qc.draw(output='mpl')"
   ]
  },
  {
   "cell_type": "code",
   "execution_count": null,
   "metadata": {
    "ExecuteTime": {
     "end_time": "2025-03-11T17:29:02.587999Z",
     "start_time": "2025-03-11T17:29:02.584758Z"
    }
   },
   "outputs": [],
   "source": []
  },
  {
   "cell_type": "markdown",
   "metadata": {},
   "source": [
    "Definition of a `check_comparison`$(n,L, nb)$ method that invokes the `make_comparator` method, iterates over $0\\leq i\\leq 2^n-1$ to initialize the circuit with state $|i\\rangle \\otimes |0^n\\rangle$ and verifies that the measurement of the qubit at index $0$ returns the appropriate value for each value of $i$. Parameter $nb$ represents the number of shots used by the sampler to compute measurement outcome statistics."
   ]
  },
  {
   "cell_type": "code",
   "execution_count": null,
   "metadata": {
    "ExecuteTime": {
     "end_time": "2025-03-11T17:29:02.615744Z",
     "start_time": "2025-03-11T17:29:02.608992Z"
    }
   },
   "outputs": [],
   "source": [
    "def check_comparison(n, L, numshots):\n",
    "    comp_qc = make_comparator(n, L)\n",
    "    #line below useless?\n",
    "    simulator = AerSimulator(method='statevector')\n",
    "    sampler = SamplerV2()   \n",
    "    for i in range(2**n):\n",
    "        qr = QuantumRegister(2*n)\n",
    "        qci = QuantumCircuit(qr)\n",
    "        init = [0 for _ in range(2**n)]\n",
    "        init[i] = 1\n",
    "        qci.initialize(init, qr[n:2*n])\n",
    "        res_qc = qci.compose(comp_qc)\n",
    "        meas_qc = add_measurement(res_qc)\n",
    "        qc = transpile(meas_qc, simulator)\n",
    "        job = sampler.run([qc], shots=numshots)\n",
    "        result = job.result()\n",
    "        prob = result[0].data.cl.get_counts()\n",
    "        print(f'Test if {i} >= {L}, measured output: {prob}')"
   ]
  },
  {
   "cell_type": "code",
   "execution_count": null,
   "metadata": {
    "ExecuteTime": {
     "end_time": "2025-03-11T17:29:02.697945Z",
     "start_time": "2025-03-11T17:29:02.694237Z"
    }
   },
   "outputs": [],
   "source": [
    "#check_comparison(4, 10, 1024)"
   ]
  },
  {
   "cell_type": "markdown",
   "metadata": {},
   "source": [
    "\n",
    "# Storing a probability distribution in a quantum state\n",
    "\n",
    "The goal of this part is to design a circuit that permits to store a probability distribution in a quantum state.\n",
    "\n",
    "## Case where $n=2$\n",
    "\n",
    "We begin with the simple case where $n=2$. The cell below constructs a circuit permitting to store the probability distribution in a quantum state (with a single qubit). "
   ]
  },
  {
   "cell_type": "code",
   "execution_count": null,
   "metadata": {
    "ExecuteTime": {
     "end_time": "2025-03-11T17:29:02.738374Z",
     "start_time": "2025-03-11T17:29:02.735070Z"
    }
   },
   "outputs": [],
   "source": [
    "def make_basic_qc(p):\n",
    "    qc =  QuantumCircuit(1)\n",
    "    theta = 2*math.acos(math.sqrt(p))\n",
    "    qc.ry(theta, 0)\n",
    "    return qc "
   ]
  },
  {
   "cell_type": "code",
   "execution_count": null,
   "metadata": {
    "ExecuteTime": {
     "end_time": "2025-03-11T17:29:02.818197Z",
     "start_time": "2025-03-11T17:29:02.786586Z"
    }
   },
   "outputs": [],
   "source": [
    "make_basic_qc(0.15).draw(output='mpl')"
   ]
  },
  {
   "cell_type": "code",
   "execution_count": null,
   "metadata": {
    "ExecuteTime": {
     "end_time": "2025-03-11T17:29:02.848853Z",
     "start_time": "2025-03-11T17:29:02.844471Z"
    }
   },
   "outputs": [],
   "source": [
    "def get_state_probabilities(qc):\n",
    "  n = qc.num_qubits\n",
    "  statevector = Statevector(qc)\n",
    "  probabilities = {}\n",
    "  for i in range(2**n):\n",
    "    state = bin(i)[2:].zfill(n)\n",
    "    probabilities[state] = abs(statevector[i])**2  \n",
    "  return probabilities"
   ]
  },
  {
   "cell_type": "code",
   "execution_count": null,
   "metadata": {
    "ExecuteTime": {
     "end_time": "2025-03-11T17:29:02.905625Z",
     "start_time": "2025-03-11T17:29:02.893041Z"
    }
   },
   "outputs": [],
   "source": [
    "get_state_probabilities(make_basic_qc(0.15))"
   ]
  },
  {
   "cell_type": "markdown",
   "metadata": {},
   "source": [
    "The probability of getting the outcome $0$ is close to $p$, likewise for $1$ and $1-p$."
   ]
  },
  {
   "cell_type": "markdown",
   "metadata": {},
   "source": [
    "## Circuit for an arbitrary value of $n$."
   ]
  },
  {
   "cell_type": "markdown",
   "metadata": {},
   "source": [
    "### Generation of the final prices grid"
   ]
  },
  {
   "cell_type": "markdown",
   "metadata": {},
   "source": [
    "Definition of a method `make_final_price_grid`$(n, \\mathrm{price\\_dict}, m)$ that generates a regular grid with size $2^n$ of final prices ranging between $\\max\\left(0, \\overline{S} - m\\cdot \\sigma\\right)$ and $\\overline{S} + m\\cdot \\sigma$. This method is based on the `linspace` method from **numpy**."
   ]
  },
  {
   "cell_type": "code",
   "execution_count": null,
   "metadata": {
    "ExecuteTime": {
     "end_time": "2025-03-11T17:58:14.556640Z",
     "start_time": "2025-03-11T17:58:14.549071Z"
    }
   },
   "outputs": [],
   "source": [
    "def make_final_price_grid(n: int, price_dict: dict, m: int):\n",
    "\n",
    "    S = price_dict['S0']\n",
    "    T = price_dict['T']\n",
    "    sigma = price_dict['sigma']\n",
    "    r = price_dict['r']\n",
    "\n",
    "    s1 = S*np.exp(r*T)\n",
    "\n",
    "    sm = max(0, s1 - m*sigma)\n",
    "    sM = s1 + m*sigma\n",
    "\n",
    "\n",
    "    return np.linspace(sm, sM, 2**n)\n",
    "\n",
    "\n",
    "len(make_final_price_grid(5, price_dict, 3))\n"
   ]
  },
  {
   "cell_type": "markdown",
   "metadata": {},
   "source": [
    "Definition of a method `align`$(n, K, \\mathrm{price\\_dict}, m)$ that returns the value $L$ such that $s_L$ is the projection of $K$ on the final price grid. "
   ]
  },
  {
   "cell_type": "code",
   "execution_count": null,
   "metadata": {
    "ExecuteTime": {
     "end_time": "2025-03-11T17:58:07.762910Z",
     "start_time": "2025-03-11T17:58:07.758699Z"
    }
   },
   "outputs": [],
   "source": [
    "def align(n, K, price_dict, m):\n",
    "    grid = make_final_price_grid(n, price_dict, m)\n",
    "    L = np.argmin(np.abs(grid - K))\n",
    "    return grid[L]"
   ]
  },
  {
   "cell_type": "markdown",
   "metadata": {},
   "source": [
    "Test of the discretization error by comparing the outputs of `compound_black_scholes_call` on an arbitrary strike and on its projection on the final price grid."
   ]
  },
  {
   "cell_type": "code",
   "execution_count": null,
   "metadata": {
    "ExecuteTime": {
     "end_time": "2025-03-11T17:58:01.389456Z",
     "start_time": "2025-03-11T17:58:01.384419Z"
    }
   },
   "outputs": [],
   "source": [
    "init_cpb = compound_black_scholes_call(price_dict, price_dict['S0'])\n",
    "disc_cpb = compound_black_scholes_call(price_dict, align(5,price_dict['S0'], price_dict, 3))"
   ]
  },
  {
   "cell_type": "code",
   "execution_count": null,
   "metadata": {
    "ExecuteTime": {
     "end_time": "2025-03-11T17:57:50.833683Z",
     "start_time": "2025-03-11T17:57:50.830395Z"
    }
   },
   "outputs": [],
   "source": [
    "print(f'init: {init_cpb}, disc: {disc_cpb}, error: {(init_cpb-disc_cpb)/init_cpb:.2%}')"
   ]
  },
  {
   "cell_type": "markdown",
   "metadata": {},
   "source": [
    "### Generation of the probability values\n",
    "\n",
    "Definition of a method `make_probability_distribution` that returns a *last prices* grid and the corresponding value of each $p_i$ for $0 \\leq i < 2^n$. The arguments of this method are:\n",
    "- $n$: the number of qubits under consideration\n",
    "- $\\mathrm{price\\_dict}$: the dictionary with the mathematical characteristics of the underlying\n",
    "- $m$: the number of standard deviations to consider for the minimum and maximum bounds of the grid\n",
    "\n",
    "***Useful methods:*** \n",
    "$S_T$ is of the form $S_0e^{(r-\\tfrac{\\sigma^2}{2})T}\\cdot Z$, where $Z \\sim \\mathrm{lognorm}(\\sigma\\sqrt{T})$. The lognormal distribution is available thanks to the `lognorm` method from `scipy.stats`. The `scale` parameter is to be set to $1$.\n",
    "\n",
    "The probability values can be computed using the `cdf` method available on the lognormal distribution."
   ]
  },
  {
   "cell_type": "code",
   "execution_count": null,
   "metadata": {
    "ExecuteTime": {
     "end_time": "2025-03-11T17:57:39.688086Z",
     "start_time": "2025-03-11T17:57:39.682100Z"
    }
   },
   "outputs": [],
   "source": [
    "def make_probability_distribution(n, pr_dict, num_stddev):\n",
    "    \"\"\"\n",
    "    Generate the probability distribution for the final stock prices.\n",
    "    \n",
    "    :param n: Number of qubits\n",
    "    :param pr_dict: Dictionary with the financial characteristics\n",
    "    :return: Probability distribution\n",
    "    \"\"\"\n",
    "    # Generate the log-normal distribution\n",
    "    S0 = pr_dict['S0']\n",
    "    r = pr_dict['r']\n",
    "    T = pr_dict['T']\n",
    "    sigma = pr_dict['sigma']\n",
    "\n",
    "    lognorm_dist = lognorm(sigma*np.sqrt(T), scale=1)\n",
    "\n",
    "    final_prices = make_final_price_grid(n, pr_dict, num_stddev)\n",
    "    sm = final_prices[0]\n",
    "    sM = final_prices[-1]\n",
    "    sM1 = sM + (sM-sm)/(2**n - 1)\n",
    "\n",
    "    final_prices_extra = np.append(final_prices, sM1)\n",
    "\n",
    "    def s(i):\n",
    "        si = final_prices_extra[i]/(S0*np.exp((r-0.5*sigma**2)*T))\n",
    "        return si\n",
    "\n",
    "    numerateur = [lognorm_dist.cdf(s(i+1)) - lognorm_dist.cdf(s(i)) for i in range(2**n)]\n",
    "    prob_distribs = numerateur/np.sum(numerateur)\n",
    "\n",
    "    return final_prices, prob_distribs\n"
   ]
  },
  {
   "cell_type": "markdown",
   "metadata": {},
   "source": [
    "## Validation of the probability distribution, comparison of the Black-Scholes approximation"
   ]
  },
  {
   "cell_type": "code",
   "execution_count": null,
   "metadata": {
    "ExecuteTime": {
     "end_time": "2025-03-11T17:57:34.717239Z",
     "start_time": "2025-03-11T17:57:34.713947Z"
    }
   },
   "outputs": [],
   "source": [
    "# Arbitrary value for n, will afterward be the size of the quantum circuit\n",
    "n_prob = 10\n",
    "n_stddev_prob = 4\n"
   ]
  },
  {
   "cell_type": "markdown",
   "metadata": {},
   "source": [
    "Verification that the generated distribution sums to $1$."
   ]
  },
  {
   "cell_type": "code",
   "execution_count": null,
   "metadata": {
    "ExecuteTime": {
     "end_time": "2025-03-11T17:57:32.193786Z",
     "start_time": "2025-03-11T17:57:32.118281Z"
    }
   },
   "outputs": [],
   "source": [
    "final_prices, prob_distribs = make_probability_distribution(n_prob, price_dict, n_stddev_prob)\n",
    "np.sum(prob_distribs)"
   ]
  },
  {
   "cell_type": "code",
   "execution_count": null,
   "metadata": {
    "ExecuteTime": {
     "end_time": "2025-03-11T17:29:03.413071Z",
     "start_time": "2025-03-11T17:29:03.409Z"
    }
   },
   "outputs": [],
   "source": []
  },
  {
   "cell_type": "markdown",
   "metadata": {},
   "source": [
    "Plot the generated distribution against the final price grid."
   ]
  },
  {
   "cell_type": "code",
   "execution_count": null,
   "metadata": {
    "ExecuteTime": {
     "end_time": "2025-03-11T17:57:27.691168Z",
     "start_time": "2025-03-11T17:57:27.621232Z"
    }
   },
   "outputs": [],
   "source": [
    "plt.plot(final_prices, prob_distribs)\n",
    "plt.xlabel('i')\n",
    "plt.ylabel('$p_i$')\n",
    "plt.show()"
   ]
  },
  {
   "cell_type": "markdown",
   "metadata": {},
   "source": [
    "Compare the compounded Black-Scholes price of an option with the approximation of the expectation \n",
    "$$\\mathbb{E}\\left[(S_T - s_L)_+\\right] \\approx \\sum_{i=0}^{2^n-1}p_i\\cdot(s_i - s_L)_+.$$"
   ]
  },
  {
   "cell_type": "code",
   "execution_count": null,
   "metadata": {
    "ExecuteTime": {
     "end_time": "2025-03-11T17:29:03.572084Z",
     "start_time": "2025-03-11T17:29:03.565708Z"
    }
   },
   "outputs": [],
   "source": [
    "def expectation_cmp(n, L, price_dict, n_stddev):\n",
    "    last_prices, prob_distribs = make_probability_distribution(n, price_dict, n_stddev)\n",
    "    sL = last_prices[L]\n",
    "    sum = 0\n",
    "    for i in range(0, 2**n):        \n",
    "        sum += (last_prices[i] - sL)*prob_distribs[i]*(i>=L)\n",
    "    bs = compound_black_scholes_call(price_dict, sL)\n",
    "    return {'bs': bs, 'sum': sum, 'strike': sL}"
   ]
  },
  {
   "cell_type": "code",
   "execution_count": null,
   "metadata": {
    "ExecuteTime": {
     "end_time": "2025-03-11T17:29:03.616563Z",
     "start_time": "2025-03-11T17:29:03.610499Z"
    }
   },
   "outputs": [],
   "source": [
    "def get_all_expect_comp(n, price_dict, num_stddev, num_points):\n",
    "    res = []\n",
    "    for L in range(0, 2**n,int(2**n/num_points)):\n",
    "        ex_cmp = expectation_cmp(n, L, price_dict, num_stddev)\n",
    "        print(f'L: {L} (strike {ex_cmp[\"strike\"]})')\n",
    "        res.append(ex_cmp)\n",
    "    return res"
   ]
  },
  {
   "cell_type": "code",
   "execution_count": null,
   "metadata": {
    "ExecuteTime": {
     "end_time": "2025-03-11T17:57:14.184075Z",
     "start_time": "2025-03-11T17:57:12.958444Z"
    }
   },
   "outputs": [],
   "source": [
    "res = get_all_expect_comp(n_prob, price_dict,n_stddev_prob, 20)"
   ]
  },
  {
   "cell_type": "code",
   "execution_count": null,
   "metadata": {
    "ExecuteTime": {
     "end_time": "2025-03-11T17:57:09.194555Z",
     "start_time": "2025-03-11T17:57:09.098868Z"
    }
   },
   "outputs": [],
   "source": [
    "resbs = [x['bs'] for x in res]\n",
    "ressum = [x['sum'] for x in res]\n",
    "strikes = [x['strike'] for x in res]\n",
    "xcoord = price_dict['S0']\n",
    "plt.plot(strikes, resbs, label='Black-Scholes')\n",
    "plt.plot(strikes, ressum, label='Approx')\n",
    "plt.axvline(x=xcoord, color='r', linestyle='--', label=f'S0 = {xcoord}')\n",
    "plt.legend()\n",
    "plt.show()"
   ]
  },
  {
   "cell_type": "code",
   "execution_count": null,
   "metadata": {
    "ExecuteTime": {
     "end_time": "2025-03-11T17:29:05.429379Z",
     "start_time": "2025-03-11T17:29:05.423171Z"
    }
   },
   "outputs": [],
   "source": [
    "abs_errors = [(x['sum'] - x['bs']) for x in res]\n",
    "abs_errors"
   ]
  },
  {
   "cell_type": "code",
   "execution_count": null,
   "metadata": {
    "ExecuteTime": {
     "end_time": "2025-03-11T17:56:58.715924Z",
     "start_time": "2025-03-11T17:56:58.623121Z"
    }
   },
   "outputs": [],
   "source": [
    "plt.plot(strikes, abs_errors)\n",
    "xcoord = price_dict['S0']\n",
    "plt.axvline(x=xcoord, color='r', linestyle='--', label=f'x = {xcoord}')\n",
    "plt.legend()\n",
    "plt.show()"
   ]
  },
  {
   "cell_type": "markdown",
   "metadata": {},
   "source": [
    "## Recursive distribution computations\n",
    "\n",
    "Computation of the values $q_w$ and $\\theta_w$. The values of $q_w$ (resp. $\\theta_w$) where $w$ is of length $m$ are stored in a dictionnary for which each key is a string of length $m$. The dictionnaries with the values of $q$ (resp. $\\theta$) for $1 \\leq m \\leq n$ are stored in a dictionnary `DictQ` (resp. `DictTheta`)."
   ]
  },
  {
   "cell_type": "markdown",
   "metadata": {},
   "source": [
    "Definition of a function `generate_binary_strings`$(n)$ that takes a parameter $n$ and outputs a list of all binary strings of length $n$.\n",
    "\n",
    "Useful method: `product` from the `itertools` package"
   ]
  },
  {
   "cell_type": "code",
   "execution_count": null,
   "metadata": {
    "ExecuteTime": {
     "end_time": "2025-03-11T17:56:53.608255Z",
     "start_time": "2025-03-11T17:56:53.604528Z"
    }
   },
   "outputs": [],
   "source": [
    "def generate_binary_strings(n: int):\n",
    "    return list(product([0, 1], repeat=n))\n",
    "\n"
   ]
  },
  {
   "cell_type": "markdown",
   "metadata": {},
   "source": [
    "Definition of a method `make_dict_at_n` that creates the dictionary containing the values $q_w$ where $w$ is of length $n$. This method has two parameters:\n",
    "- the value of $n$\n",
    "- the probability distribution under consideration"
   ]
  },
  {
   "cell_type": "code",
   "execution_count": null,
   "metadata": {
    "ExecuteTime": {
     "end_time": "2025-03-11T17:29:05.732872Z",
     "start_time": "2025-03-11T17:29:05.726975Z"
    }
   },
   "outputs": [],
   "source": [
    "def make_dict_at_n(n, prob_distribs):\n",
    "    w1 = generate_binary_strings(n)\n",
    "    qw = {}\n",
    "    for k in range(len(w1)):\n",
    "        w = ''.join(map(str, w1[k]))\n",
    "        qw[w] = prob_distribs[k]\n",
    "    return qw"
   ]
  },
  {
   "cell_type": "code",
   "execution_count": null,
   "metadata": {
    "ExecuteTime": {
     "end_time": "2025-03-11T17:54:38.880003Z",
     "start_time": "2025-03-11T17:54:38.875387Z"
    }
   },
   "outputs": [],
   "source": [
    "dict_n = make_dict_at_n(n_prob, prob_distribs)\n"
   ]
  },
  {
   "cell_type": "code",
   "execution_count": null,
   "metadata": {
    "ExecuteTime": {
     "end_time": "2025-03-11T17:29:05.889992Z",
     "start_time": "2025-03-11T17:29:05.887288Z"
    }
   },
   "outputs": [],
   "source": []
  },
  {
   "cell_type": "markdown",
   "metadata": {},
   "source": [
    "Definition of a method `make_all_dictQ` that iterates from $n-1$ to $1$ to generate all the required probability distributions. Note that the set of keys in the generated dictionary is $\\{1, \\ldots, n\\}$. This method has two parameters:\n",
    "- the value of $n$\n",
    "- the dictionary containing the probability distribution at level $n$ (generated by `make_dict_at_n`)"
   ]
  },
  {
   "cell_type": "code",
   "execution_count": null,
   "metadata": {
    "ExecuteTime": {
     "end_time": "2025-03-11T17:56:23.809309Z",
     "start_time": "2025-03-11T17:56:23.804792Z"
    }
   },
   "outputs": [],
   "source": [
    "def make_all_dictQ(n, dict_n):\n",
    "    q_all_dict = {}\n",
    "    m = n-1\n",
    "    q_all_dict[n] = dict_n\n",
    "    while m > 0:\n",
    "        binary_strings_tuples = generate_binary_strings(m)\n",
    "        q_all_dict[m] = {}\n",
    "        for k in range(len(binary_strings_tuples)):\n",
    "            binary_strings = ''.join(map(str,binary_strings_tuples[k]))\n",
    "            q_all_dict[m][binary_strings] = q_all_dict[m + 1][binary_strings + '0'] + q_all_dict[m + 1][binary_strings + '1']\n",
    "        m = m-1\n",
    "    return q_all_dict"
   ]
  },
  {
   "cell_type": "code",
   "execution_count": null,
   "metadata": {
    "ExecuteTime": {
     "end_time": "2025-03-11T17:56:24.457103Z",
     "start_time": "2025-03-11T17:56:24.434783Z"
    }
   },
   "outputs": [],
   "source": [
    "dict_all_q = make_all_dictQ(n_prob, dict_n)\n",
    "dict_all_q"
   ]
  },
  {
   "cell_type": "markdown",
   "metadata": {},
   "source": [
    "Definition of a method `make_all_dictTheta` that iterates from $0$ to $n-1$ to generate all the required angles. Note that the set of keys in the generated dictionary is $\\{0, \\ldots, n-1\\}$. This method has a single parameter: the dictionary generated by `make_all_dictQ`.\n",
    "\n",
    "For the sake of convenience, the element at key $0$ in the generated dictionary will be the angle $\\theta^{[0]}_\\varepsilon$ instead of a dictionary containing this angle (with the empty string as a key)."
   ]
  },
  {
   "cell_type": "code",
   "execution_count": null,
   "metadata": {
    "ExecuteTime": {
     "end_time": "2025-03-11T17:56:26.394520Z",
     "start_time": "2025-03-11T17:56:26.390991Z"
    }
   },
   "outputs": [],
   "source": [
    "def make_all_dictTheta(n, dict_all_q):\n",
    "    theta_all_dict = {0: {'0': 2 * np.arccos(np.sqrt(dict_all_q[1]['0']))}}\n",
    "    for k in range(1, n):\n",
    "        binary_strings_tuples = generate_binary_strings(k)\n",
    "        theta_all_dict[k] = {}\n",
    "        for l in range(len(binary_strings_tuples)):\n",
    "            binary_strings = ''.join(map(str,binary_strings_tuples[l]))\n",
    "            w0 = binary_strings + '0'\n",
    "            theta_all_dict[k][binary_strings] = 2*np.arccos(np.sqrt(dict_all_q[k+1][w0]/dict_all_q[k][binary_strings]))\n",
    "    return theta_all_dict"
   ]
  },
  {
   "cell_type": "code",
   "execution_count": null,
   "metadata": {
    "ExecuteTime": {
     "end_time": "2025-03-11T17:56:27.101284Z",
     "start_time": "2025-03-11T17:56:27.085532Z"
    }
   },
   "outputs": [],
   "source": [
    "dict_all_theta = make_all_dictTheta(n_prob, dict_all_q)\n",
    "dict_all_theta"
   ]
  },
  {
   "cell_type": "markdown",
   "metadata": {},
   "source": [
    "Definition of a method `make_qc_for_dict` that creates the general quantum circuit for the storage of a quantum distribution. This method has a unique parameter: the dictionary of rotation angles (generated by `make_all_dictTheta`).\n",
    "\n",
    "Some useful concepts and methods from Qiskit:\n",
    "- `RYGate` for $y$-rotation gates that are potentially controlled\n",
    "- `control`: the method to create the controlled version of a quantum gate. This method takes as parameters the number of control qubits, and possibly the state of the control qubits that will trigger the gate (`ctrl_state`)."
   ]
  },
  {
   "cell_type": "code",
   "execution_count": null,
   "metadata": {
    "ExecuteTime": {
     "end_time": "2025-03-11T17:56:28.464019Z",
     "start_time": "2025-03-11T17:56:28.459788Z"
    }
   },
   "outputs": [],
   "source": [
    "def make_qc_for_dict(dict_all_theta: dict) -> QuantumCircuit:\n",
    "    n = len(dict_all_theta)\n",
    "    qc = QuantumCircuit(n)\n",
    "\n",
    "    # premiere rotation\n",
    "    qc.ry(dict_all_theta[0]['0'], 0)\n",
    "    qc.barrier()\n",
    "\n",
    "    for k in range(1,n):\n",
    "        binary_strings_tuples = generate_binary_strings(k)\n",
    "\n",
    "        for l in binary_strings_tuples:\n",
    "            binary_strings = ''.join(map(str,l))\n",
    "            ry_gate = RYGate(dict_all_theta[k][binary_strings])\n",
    "            c5_ry_gate = ry_gate.control(k, ctrl_state=binary_strings)\n",
    "            qc.append(c5_ry_gate, range(k+1))\n",
    "        qc.barrier()\n",
    "\n",
    "    return qc\n",
    "\n",
    "\n",
    "\n",
    "\n",
    "\n"
   ]
  },
  {
   "cell_type": "code",
   "execution_count": null,
   "metadata": {
    "ExecuteTime": {
     "end_time": "2025-03-11T17:56:30.289171Z",
     "start_time": "2025-03-11T17:56:29.426207Z"
    }
   },
   "outputs": [],
   "source": [
    "prob_distrib_qc = make_qc_for_dict(dict_all_theta)"
   ]
  },
  {
   "cell_type": "code",
   "execution_count": null,
   "metadata": {
    "ExecuteTime": {
     "end_time": "2025-03-11T17:56:30.300616Z",
     "start_time": "2025-03-11T17:56:30.297381Z"
    }
   },
   "outputs": [],
   "source": [
    "#prob_distrib_qc.draw(output='mpl')"
   ]
  },
  {
   "cell_type": "markdown",
   "metadata": {},
   "source": [
    "## Validation"
   ]
  },
  {
   "cell_type": "code",
   "execution_count": null,
   "metadata": {
    "ExecuteTime": {
     "end_time": "2025-03-11T17:56:40.616442Z",
     "start_time": "2025-03-11T17:56:31.646395Z"
    }
   },
   "outputs": [],
   "source": [
    "circ_prob_distrib = get_state_probabilities(prob_distrib_qc)"
   ]
  },
  {
   "cell_type": "code",
   "execution_count": null,
   "metadata": {
    "ExecuteTime": {
     "end_time": "2025-03-11T17:56:44.273529Z",
     "start_time": "2025-03-11T17:56:40.626017Z"
    }
   },
   "outputs": [],
   "source": [
    "legend=[\"Target\", \"Simulation\"]\n",
    "plot_histogram([dict_n, circ_prob_distrib], legend=legend, title=\"Distribution comparison\", bar_labels=False)"
   ]
  },
  {
   "cell_type": "markdown",
   "metadata": {},
   "source": [
    "Global method that constructs a circuit that stores the probability distribution in a quantum state"
   ]
  },
  {
   "cell_type": "code",
   "execution_count": null,
   "metadata": {
    "ExecuteTime": {
     "end_time": "2025-03-11T17:55:04.422078Z",
     "start_time": "2025-03-11T17:55:04.417249Z"
    }
   },
   "outputs": [],
   "source": [
    "def make_distribution_circuit(n, pricing_dict, num_stddev):\n",
    "    _ ,prob_distrib = make_probability_distribution(n, pricing_dict, num_stddev)\n",
    "    dict_pn = make_dict_at_n(n, prob_distrib)\n",
    "    dict_all_q = make_all_dictQ(n, dict_pn)\n",
    "    dict_all_theta = make_all_dictTheta(dict_all_q)\n",
    "    res = make_qc_for_dict(dict_all_theta)\n",
    "    return res"
   ]
  },
  {
   "cell_type": "markdown",
   "metadata": {},
   "source": [
    "# Full integration"
   ]
  },
  {
   "cell_type": "code",
   "execution_count": null,
   "metadata": {
    "ExecuteTime": {
     "end_time": "2025-03-11T17:55:08.275211Z",
     "start_time": "2025-03-11T17:55:08.271553Z"
    }
   },
   "outputs": [],
   "source": [
    "circ_dict = {'n': 3, 'd': 0.01, 'num_stddev': 3, 'm': 3}\n",
    "K = 2.0"
   ]
  },
  {
   "cell_type": "markdown",
   "metadata": {},
   "source": [
    "## Creation of the affine functions $f_0$ and $f_1$\n",
    "\n",
    "Computation of the values $a_i$ and $b_i$ such that $f_i = a_i + b_i\\cdot i$."
   ]
  },
  {
   "cell_type": "code",
   "execution_count": null,
   "metadata": {},
   "outputs": [],
   "source": []
  },
  {
   "cell_type": "markdown",
   "metadata": {},
   "source": [
    "Comparison of the expectation to estimate with the expectation of its sine approximation."
   ]
  },
  {
   "cell_type": "code",
   "execution_count": null,
   "metadata": {},
   "outputs": [],
   "source": [
    "def compare_expect(circ_dict, price_dict, K):\n",
    "    # TO COMPLETE\n",
    "    return mean_f, mean_sin"
   ]
  },
  {
   "cell_type": "code",
   "execution_count": null,
   "metadata": {},
   "outputs": [],
   "source": [
    "expect, sin_expect = compare_expect(circ_dict, price_dict, K)"
   ]
  },
  {
   "cell_type": "code",
   "execution_count": null,
   "metadata": {},
   "outputs": [],
   "source": [
    "expect, sin_expect"
   ]
  },
  {
   "cell_type": "markdown",
   "metadata": {},
   "source": [
    "Definition of methods to construct the circuits for $f_0$ and $f_1$ using the `encode_affine_function` method."
   ]
  },
  {
   "cell_type": "code",
   "execution_count": null,
   "metadata": {},
   "outputs": [],
   "source": []
  },
  {
   "cell_type": "markdown",
   "metadata": {},
   "source": [
    "## Comparison circuit\n",
    "\n",
    "Construction of the comparison circuit for a given strike price."
   ]
  },
  {
   "cell_type": "code",
   "execution_count": null,
   "metadata": {},
   "outputs": [],
   "source": [
    "def make_comparison_circuit(circ_dict, price_dict, K):\n",
    "    # TO COMPLETE"
   ]
  },
  {
   "cell_type": "code",
   "execution_count": null,
   "metadata": {},
   "outputs": [],
   "source": [
    "cmp_qc = make_comparison_circuit(circ_dict, price_dict, K)"
   ]
  },
  {
   "cell_type": "code",
   "execution_count": null,
   "metadata": {},
   "outputs": [],
   "source": [
    "cmp_qc.draw('mpl')"
   ]
  },
  {
   "cell_type": "markdown",
   "metadata": {},
   "source": [
    "## Integration\n",
    "\n",
    "Global integration to construct the global circuit encoding the pricing problem in a quantum state."
   ]
  },
  {
   "cell_type": "code",
   "execution_count": null,
   "metadata": {},
   "outputs": [],
   "source": [
    "def integration(circ_dict, price_dict, K):\n",
    "    # TO COMPLETE\n",
    "\n"
   ]
  },
  {
   "cell_type": "code",
   "execution_count": null,
   "metadata": {},
   "outputs": [],
   "source": [
    "qc_pricer = integration(circ_dict, price_dict, K)"
   ]
  },
  {
   "cell_type": "code",
   "execution_count": null,
   "metadata": {},
   "outputs": [],
   "source": [
    "qc_pricer.draw('mpl')"
   ]
  },
  {
   "cell_type": "code",
   "execution_count": null,
   "metadata": {},
   "outputs": [],
   "source": [
    "def qae_eval(qc_pricer):\n",
    "    obj_qubits = qc_pricer.find_bit(qc_pricer.qregs[3][0])\n",
    "    problem = EstimationProblem(state_preparation=qc_pricer, objective_qubits=[obj_qubits.index]) \n",
    "    iae = IterativeAmplitudeEstimation(\n",
    "        epsilon_target=0.01,  # Target accuracy\n",
    "        alpha=0.05,  # Confidence level\n",
    "    )\n",
    "    result = iae.estimate(problem).estimation\n",
    "    return result"
   ]
  },
  {
   "cell_type": "code",
   "execution_count": null,
   "metadata": {},
   "outputs": [],
   "source": [
    "res = qae_eval(qc_pricer)"
   ]
  },
  {
   "cell_type": "code",
   "execution_count": null,
   "metadata": {},
   "outputs": [],
   "source": [
    "print(f'sin_expect: {sin_expect}, res: {res}')"
   ]
  },
  {
   "cell_type": "markdown",
   "metadata": {},
   "source": []
  }
 ],
 "metadata": {
  "kernelspec": {
   "display_name": "Python 3 (ipykernel)",
   "language": "python",
   "name": "python3"
  },
  "language_info": {
   "codemirror_mode": {
    "name": "ipython",
    "version": 3
   },
   "file_extension": ".py",
   "mimetype": "text/x-python",
   "name": "python",
   "nbconvert_exporter": "python",
   "pygments_lexer": "ipython3",
   "version": "3.12.7"
  }
 },
 "nbformat": 4,
 "nbformat_minor": 2
}
